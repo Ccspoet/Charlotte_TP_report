{
 "cells": [
  {
   "cell_type": "markdown",
   "id": "d68c1dee",
   "metadata": {
    "id": "d68c1dee"
   },
   "source": [
    "# Practical_3: Iterable objects or Containers"
   ]
  },
  {
   "cell_type": "markdown",
   "id": "17fad97c",
   "metadata": {
    "id": "bea983a3"
   },
   "source": [
    "---\n",
    "\n",
    "### Exercise 1:\n",
    "Create a list of integers from 1 to 10.\n",
    "\n",
    "```python\n",
    "# Exercise 1\n",
    "```"
   ]
  },
  {
   "cell_type": "code",
   "execution_count": 1,
   "id": "b6c56990",
   "metadata": {},
   "outputs": [
    {
     "name": "stdout",
     "output_type": "stream",
     "text": [
      "[1, 2, 3, 4, 5, 6, 7, 8, 9, 10]\n"
     ]
    }
   ],
   "source": [
    "list=[1,2,3,4,5,6,7,8,9,10]\n",
    "print(list)"
   ]
  },
  {
   "cell_type": "markdown",
   "id": "abf93c18",
   "metadata": {
    "id": "bea983a3"
   },
   "source": [
    "---\n",
    "\n",
    "### Exercise 2:\n",
    "Create a tuple containing the elements `\"apple\"`, `\"banana\"`, and `\"cherry\"`.\n",
    "\n",
    "```python\n",
    "# Exercise 2\n",
    "```"
   ]
  },
  {
   "cell_type": "code",
   "execution_count": 1,
   "id": "625fd48d",
   "metadata": {},
   "outputs": [
    {
     "name": "stdout",
     "output_type": "stream",
     "text": [
      "('apple', 'banana', 'cherry') <class 'tuple'>\n"
     ]
    }
   ],
   "source": [
    "tup=(\"apple\",\"banana\",\"cherry\")\n",
    "print(tup,type(tup))"
   ]
  },
  {
   "cell_type": "markdown",
   "id": "afeb69e2",
   "metadata": {
    "id": "bea983a3"
   },
   "source": [
    "---\n",
    "\n",
    "### Exercise 3:\n",
    "Convert the list `numbers = [10, 20, 30, 40]` into a tuple.\n",
    "\n",
    "```python\n",
    "# Exercise 3\n",
    "```"
   ]
  },
  {
   "cell_type": "code",
   "execution_count": 3,
   "id": "04980317",
   "metadata": {},
   "outputs": [
    {
     "name": "stdout",
     "output_type": "stream",
     "text": [
      "(10, 20, 30, 40) <class 'tuple'>\n"
     ]
    }
   ],
   "source": [
    "numbers=[10,20,30,40]\n",
    "num_1=tuple(numbers)\n",
    "print(num_1,type(num_1))"
   ]
  },
  {
   "cell_type": "markdown",
   "id": "2fcf2ede",
   "metadata": {
    "id": "bea983a3"
   },
   "source": [
    "---\n",
    "\n",
    "### Exercise 4:\n",
    "Create a set containing the elements `1, 2, 3, 4, 5`.\n",
    "\n",
    "```python\n",
    "# Exercise 4\n",
    "```"
   ]
  },
  {
   "cell_type": "code",
   "execution_count": 6,
   "id": "b358d560",
   "metadata": {},
   "outputs": [
    {
     "name": "stdout",
     "output_type": "stream",
     "text": [
      "{1, 2, 3, 4, 5} <class 'set'>\n"
     ]
    }
   ],
   "source": [
    "s={1,2,3,4,5}\n",
    "print(s,type(s))"
   ]
  },
  {
   "cell_type": "markdown",
   "id": "7069c8cc",
   "metadata": {
    "id": "bea983a3"
   },
   "source": [
    "---\n",
    "\n",
    "### Exercise 5:\n",
    "Create a dictionary `student` with the keys `\"name\"`, `\"age\"`, and `\"grade\"` and corresponding values `\"Alice\"`, `20`, and `\"A\"`.\n",
    "\n",
    "```python\n",
    "# Exercise 5\n",
    "```"
   ]
  },
  {
   "cell_type": "code",
   "execution_count": 13,
   "id": "61e35f29",
   "metadata": {},
   "outputs": [
    {
     "name": "stdout",
     "output_type": "stream",
     "text": [
      "{'name': 'Alice', 'age': 20, 'grade': 'A'} <class 'dict'>\n"
     ]
    }
   ],
   "source": [
    "student={\"name\":\"Alice\",\"age\":20,\"grade\":\"A\"}\n",
    "print(student,type(student))"
   ]
  },
  {
   "cell_type": "markdown",
   "id": "3832eac0",
   "metadata": {
    "id": "bea983a3"
   },
   "source": [
    "---\n",
    "\n",
    "### Exercise 6:\n",
    "Access the second element of the list `[10, 20, 30, 40, 50]` using indexing.\n",
    "\n",
    "```python\n",
    "# Exercise 6\n",
    "```"
   ]
  },
  {
   "cell_type": "code",
   "execution_count": 27,
   "id": "4484019a",
   "metadata": {},
   "outputs": [
    {
     "data": {
      "text/plain": [
       "20"
      ]
     },
     "execution_count": 27,
     "metadata": {},
     "output_type": "execute_result"
    }
   ],
   "source": [
    "lst=[10,20,30,40,50]\n",
    "lst[1]"
   ]
  },
  {
   "cell_type": "markdown",
   "id": "d699fa44",
   "metadata": {
    "id": "bea983a3"
   },
   "source": [
    "---\n",
    "\n",
    "### Exercise 7:\n",
    "Change the third element of the list `fruits = [\"apple\", \"banana\", \"cherry\", \"orange\"]` to `\"mango\"`.\n",
    "\n",
    "```python\n",
    "# Exercise 7\n",
    "```"
   ]
  },
  {
   "cell_type": "code",
   "execution_count": 10,
   "id": "5057d54f",
   "metadata": {},
   "outputs": [
    {
     "name": "stdout",
     "output_type": "stream",
     "text": [
      "['apple', 'banana', 'mango', 'orange']\n"
     ]
    }
   ],
   "source": [
    "fruits=[\"apple\",\"banana\",\"cherry\",\"orange\"]\n",
    "fruits[2]=(\"mango\")\n",
    "print(fruits)"
   ]
  },
  {
   "cell_type": "markdown",
   "id": "62d65fbf",
   "metadata": {
    "id": "bea983a3"
   },
   "source": [
    "---\n",
    "\n",
    "### Exercise 8:\n",
    "Add the number `6` to the set `numbers = {1, 2, 3, 4, 5}`.\n",
    "\n",
    "```python\n",
    "# Exercise 8\n",
    "```"
   ]
  },
  {
   "cell_type": "code",
   "execution_count": 41,
   "id": "138bcd9e",
   "metadata": {},
   "outputs": [],
   "source": [
    "num_2={1,2,3,4,5}\n",
    "num_2.add(6)"
   ]
  },
  {
   "cell_type": "markdown",
   "id": "d1a9e387",
   "metadata": {
    "id": "bea983a3"
   },
   "source": [
    "---\n",
    "\n",
    "### Exercise 9:\n",
    "Remove the key `\"age\"` from the dictionary `person = {\"name\": \"John\", \"age\": 25, \"city\": \"New York\"}`.\n",
    "\n",
    "```python\n",
    "# Exercise 9\n",
    "```"
   ]
  },
  {
   "cell_type": "code",
   "execution_count": 14,
   "id": "998a7cf0",
   "metadata": {},
   "outputs": [
    {
     "data": {
      "text/plain": [
       "dict_keys(['name', 'age', 'city'])"
      ]
     },
     "execution_count": 14,
     "metadata": {},
     "output_type": "execute_result"
    }
   ],
   "source": [
    "person = {\"name\": \"John\", \"age\": 25, \"city\": \"New York\"}\n",
    "person.keys()"
   ]
  },
  {
   "cell_type": "code",
   "execution_count": 39,
   "id": "c257d4a3",
   "metadata": {},
   "outputs": [
    {
     "data": {
      "text/plain": [
       "{'name': 'John', 'age': 25, 'city': 'New York'}"
      ]
     },
     "execution_count": 39,
     "metadata": {},
     "output_type": "execute_result"
    }
   ],
   "source": [
    "person"
   ]
  },
  {
   "cell_type": "code",
   "execution_count": 40,
   "id": "c2ea4470",
   "metadata": {},
   "outputs": [
    {
     "name": "stdout",
     "output_type": "stream",
     "text": [
      "{'name': 'John', 'city': 'New York'}\n"
     ]
    }
   ],
   "source": [
    "del person[\"age\"]\n",
    "print(person)"
   ]
  },
  {
   "cell_type": "markdown",
   "id": "cc895425",
   "metadata": {
    "id": "bea983a3"
   },
   "source": [
    "---\n",
    "\n",
    "### Exercise 10:\n",
    "Create a range object starting from 0 to 9.\n",
    "\n",
    "```python\n",
    "# Exercise 10\n",
    "```"
   ]
  },
  {
   "cell_type": "code",
   "execution_count": 42,
   "id": "cf726e6b",
   "metadata": {},
   "outputs": [
    {
     "name": "stdout",
     "output_type": "stream",
     "text": [
      "0\n",
      "1\n",
      "2\n",
      "3\n",
      "4\n",
      "5\n",
      "6\n",
      "7\n",
      "8\n",
      "9\n"
     ]
    }
   ],
   "source": [
    "for i in range(0,10):\n",
    "    print (i)"
   ]
  },
  {
   "cell_type": "markdown",
   "id": "18b8f88d",
   "metadata": {
    "id": "bea983a3"
   },
   "source": [
    "---\n",
    "\n",
    "### Exercise 11:\n",
    "Use a list comprehension to create a list of squares of numbers from 1 to 10.\n",
    "\n",
    "```python\n",
    "# Exercise 11\n",
    "```"
   ]
  },
  {
   "cell_type": "code",
   "execution_count": 16,
   "id": "3248da41",
   "metadata": {},
   "outputs": [
    {
     "name": "stdout",
     "output_type": "stream",
     "text": [
      "[4, 16, 36, 64]\n"
     ]
    }
   ],
   "source": [
    "squares = [x**2 for x in range(1, 10) if x%2==0] \n",
    "print(squares)\n"
   ]
  },
  {
   "cell_type": "markdown",
   "id": "cbbff654",
   "metadata": {
    "id": "bea983a3"
   },
   "source": [
    "---\n",
    "\n",
    "### Exercise 12:\n",
    "Create a tuple of even numbers between 2 and 10 using a tuple comprehension.\n",
    "\n",
    "```python\n",
    "# Exercise 12\n",
    "```"
   ]
  },
  {
   "cell_type": "code",
   "execution_count": 40,
   "id": "c324246a",
   "metadata": {},
   "outputs": [
    {
     "name": "stdout",
     "output_type": "stream",
     "text": [
      "(2, 4, 6, 8)\n"
     ]
    }
   ],
   "source": [
    "even=tuple(x for x in range (2,10) if x%2==0)\n",
    "print(even)"
   ]
  },
  {
   "cell_type": "markdown",
   "id": "ab2106f5",
   "metadata": {
    "id": "bea983a3"
   },
   "source": [
    "---\n",
    "\n",
    "### Exercise 13:\n",
    "Use a for loop to iterate through the list `fruits = [\"apple\", \"banana\", \"cherry\"]` and print each element.\n",
    "\n",
    "```python\n",
    "# Exercise 13\n",
    "```"
   ]
  },
  {
   "cell_type": "code",
   "execution_count": null,
   "id": "a261121f",
   "metadata": {},
   "outputs": [],
   "source": [
    "fruits = [\"apple\", \"banana\", \"cherry\"]\n",
    "fruits_1 for fruits in "
   ]
  },
  {
   "cell_type": "markdown",
   "id": "bf9d2e83",
   "metadata": {
    "id": "bea983a3"
   },
   "source": [
    "---\n",
    "\n",
    "### Exercise 14:\n",
    "Check if the value `3` exists in the set `numbers = {1, 2, 3, 4, 5}`.\n",
    "\n",
    "```python\n",
    "# Exercise 14\n",
    "```"
   ]
  },
  {
   "cell_type": "code",
   "execution_count": 24,
   "id": "7b99b719",
   "metadata": {},
   "outputs": [
    {
     "name": "stdout",
     "output_type": "stream",
     "text": [
      "exists\n"
     ]
    }
   ],
   "source": [
    "numbers = {1, 2, 3, 4, 5}\n",
    "if numbers:=3:\n",
    "    print('exists')\n",
    "else:\n",
    "    print ('nope')\n"
   ]
  },
  {
   "cell_type": "markdown",
   "id": "f869b13a",
   "metadata": {
    "id": "bea983a3"
   },
   "source": [
    "---\n",
    "\n",
    "### Exercise 15:\n",
    "Use the `len()` function to find the length of the tuple `numbers = (10, 20, 30)`.\n",
    "\n",
    "```python\n",
    "# Exercise 15\n",
    "```"
   ]
  },
  {
   "cell_type": "code",
   "execution_count": 50,
   "id": "4aea99dd",
   "metadata": {},
   "outputs": [
    {
     "data": {
      "text/plain": [
       "3"
      ]
     },
     "execution_count": 50,
     "metadata": {},
     "output_type": "execute_result"
    }
   ],
   "source": [
    "numbers = (10, 20, 30)\n",
    "len(numbers)"
   ]
  },
  {
   "cell_type": "markdown",
   "id": "e9f3fc9d",
   "metadata": {
    "id": "bea983a3"
   },
   "source": [
    "---\n",
    "\n",
    "### Exercise 16:\n",
    "Add the value `100` at the end of the list `scores = [80, 85, 90, 95]`.\n",
    "\n",
    "```python\n",
    "# Exercise 16\n",
    "```"
   ]
  },
  {
   "cell_type": "code",
   "execution_count": 22,
   "id": "e56ef61c",
   "metadata": {},
   "outputs": [
    {
     "name": "stdout",
     "output_type": "stream",
     "text": [
      "[80, 85, 90, 95, 100]\n"
     ]
    }
   ],
   "source": [
    "scores = [80, 85, 90, 95]\n",
    "scores.append(100)\n",
    "print(scores)"
   ]
  },
  {
   "cell_type": "markdown",
   "id": "0711151c",
   "metadata": {
    "id": "bea983a3"
   },
   "source": [
    "---\n",
    "\n",
    "### Exercise 17:\n",
    "Write a function that takes a list as input and returns the sum of all elements in the list.\n",
    "\n",
    "```python\n",
    "# Exercise 17\n",
    "```"
   ]
  },
  {
   "cell_type": "code",
   "execution_count": 37,
   "id": "8d085c1a",
   "metadata": {},
   "outputs": [
    {
     "name": "stdout",
     "output_type": "stream",
     "text": [
      " 5\n",
      " 5\n",
      "[10]\n"
     ]
    }
   ],
   "source": [
    "n=int(input(\" \"))\n",
    "m=int(input(\" \"))\n",
    "print([m+n])"
   ]
  },
  {
   "cell_type": "markdown",
   "id": "24f40094",
   "metadata": {
    "id": "bea983a3"
   },
   "source": [
    "---\n",
    "\n",
    "### Exercise 18:\n",
    "Create a set containing the unique elements of the list `numbers = [1, 2, 2, 3, 4, 4, 5]`.\n",
    "\n",
    "```python\n",
    "# Exercise 18\n",
    "```"
   ]
  },
  {
   "cell_type": "code",
   "execution_count": 38,
   "id": "97cc1c79",
   "metadata": {},
   "outputs": [
    {
     "name": "stdout",
     "output_type": "stream",
     "text": [
      "{1, 2, 3, 4, 5}\n"
     ]
    }
   ],
   "source": [
    "numbers = [1, 2, 2, 3, 4, 4, 5]\n",
    "n=set(numbers)\n",
    "print(n)"
   ]
  },
  {
   "cell_type": "markdown",
   "id": "82f4f523",
   "metadata": {
    "id": "bea983a3"
   },
   "source": [
    "---\n",
    "\n",
    "### Exercise 19:\n",
    "Convert the string `\"hello\"` into a list of characters.\n",
    "\n",
    "```python\n",
    "# Exercise 19\n",
    "```"
   ]
  },
  {
   "cell_type": "code",
   "execution_count": 39,
   "id": "4d2a09fe",
   "metadata": {},
   "outputs": [
    {
     "name": "stdout",
     "output_type": "stream",
     "text": [
      "['h', 'e', 'l', 'l', 'o']\n"
     ]
    }
   ],
   "source": [
    "q=\"hello\"\n",
    "list_1=list(q)\n",
    "print(list_1)"
   ]
  },
  {
   "cell_type": "markdown",
   "id": "c4ccfe0c",
   "metadata": {
    "id": "bea983a3"
   },
   "source": [
    "---\n",
    "\n",
    "### Exercise 20:\n",
    "Write a Python function that reverses a tuple `(1, 2, 3, 4)`.\n",
    "\n",
    "```python\n",
    "# Exercise 20\n",
    "```"
   ]
  },
  {
   "cell_type": "code",
   "execution_count": 60,
   "id": "c4c7bb39",
   "metadata": {},
   "outputs": [
    {
     "data": {
      "text/plain": [
       "(4, 3, 2, 1)"
      ]
     },
     "execution_count": 60,
     "metadata": {},
     "output_type": "execute_result"
    }
   ],
   "source": [
    "t=(1, 2, 3, 4)\n",
    "t[::-1]"
   ]
  },
  {
   "cell_type": "markdown",
   "id": "ea9ac4b7",
   "metadata": {
    "id": "bea983a3"
   },
   "source": [
    "---\n",
    "\n",
    "### Exercise 21:\n",
    "Merge two dictionaries `dict1 = {\"a\": 1, \"b\": 2}` and `dict2 = {\"c\": 3, \"d\": 4}` into a single dictionary.\n",
    "\n",
    "```python\n",
    "# Exercise 21\n",
    "```"
   ]
  },
  {
   "cell_type": "code",
   "execution_count": 42,
   "id": "b138e83b",
   "metadata": {},
   "outputs": [
    {
     "name": "stdout",
     "output_type": "stream",
     "text": [
      "{'a': 1, 'b': 2, 'c': 3, 'd': 4}\n"
     ]
    }
   ],
   "source": [
    "dict1 = {\"a\": 1, \"b\": 2} \n",
    "dict2 = {\"c\": 3, \"d\": 4}\n",
    "dict3=dict1|dict2\n",
    "print(dict3)"
   ]
  },
  {
   "cell_type": "markdown",
   "id": "2453d558",
   "metadata": {
    "id": "bea983a3"
   },
   "source": [
    "---\n",
    "\n",
    "### Exercise 22:\n",
    "Create a dictionary where keys are numbers from 1 to 5, and values are their squares.\n",
    "\n",
    "```python\n",
    "# Exercise 22\n",
    "```"
   ]
  },
  {
   "cell_type": "code",
   "execution_count": 45,
   "id": "2db4d913",
   "metadata": {},
   "outputs": [
    {
     "name": "stdout",
     "output_type": "stream",
     "text": [
      "dict_keys([1, 2, 3, 4, 5])\n"
     ]
    },
    {
     "data": {
      "text/plain": [
       "dict_values([1, 4, 9, 16, 25])"
      ]
     },
     "execution_count": 45,
     "metadata": {},
     "output_type": "execute_result"
    }
   ],
   "source": [
    "dict_4={1:1,2:4,3:9,4:16,5:25}\n",
    "print(dict_4.keys())\n",
    "dict_4.values()"
   ]
  },
  {
   "cell_type": "markdown",
   "id": "573ff321",
   "metadata": {
    "id": "bea983a3"
   },
   "source": [
    "---\n",
    "\n",
    "### Exercise 23:\n",
    "Write a Python program to iterate through a dictionary and print each key-value pair.\n",
    "\n",
    "```python\n",
    "# Exercise 23\n",
    "```"
   ]
  },
  {
   "cell_type": "code",
   "execution_count": 49,
   "id": "3e319665",
   "metadata": {},
   "outputs": [
    {
     "name": "stdout",
     "output_type": "stream",
     "text": [
      " 1 , 1\n",
      " 2 , 4\n",
      " 3 , 9\n",
      " 4 , 16\n",
      " 5 , 25\n"
     ]
    }
   ],
   "source": [
    "dict_4={1:1,2:4,3:9,4:16,5:25}\n",
    "for key,value in dict_4.items():\n",
    "    print(f\" {key} , {value}\")"
   ]
  },
  {
   "cell_type": "markdown",
   "id": "7edc9705",
   "metadata": {
    "id": "bea983a3"
   },
   "source": [
    "---\n",
    "\n",
    "### Exercise 24:\n",
    "Create a list of the first 5 letters of the alphabet using the `chr()` function.\n",
    "\n",
    "```python\n",
    "# Exercise 24\n",
    "```"
   ]
  },
  {
   "cell_type": "code",
   "execution_count": 59,
   "id": "3d67d95c",
   "metadata": {},
   "outputs": [
    {
     "name": "stdout",
     "output_type": "stream",
     "text": [
      "alpha\n"
     ]
    }
   ],
   "source": [
    "ch='alphabet'\n",
    "print(ch[:5])"
   ]
  },
  {
   "cell_type": "markdown",
   "id": "da5c9f96",
   "metadata": {
    "id": "bea983a3"
   },
   "source": [
    "---\n",
    "\n",
    "### Exercise 25:\n",
    "Use the `zip()` function to combine two lists `[1, 2, 3]` and `[\"a\", \"b\", \"c\"]` into a list of tuples.\n",
    "\n",
    "```python\n",
    "# Exercise 25\n",
    "```"
   ]
  },
  {
   "cell_type": "code",
   "execution_count": 63,
   "id": "a77abc4c",
   "metadata": {},
   "outputs": [
    {
     "name": "stdout",
     "output_type": "stream",
     "text": [
      "(('a', 1), ('b', 2), ('c', 3))\n"
     ]
    }
   ],
   "source": [
    "a=[1, 2, 3]\n",
    "b=[\"a\", \"b\", \"c\"]\n",
    "c=tuple(zip(b,a))\n",
    "print(c)"
   ]
  },
  {
   "cell_type": "markdown",
   "id": "3fd70364",
   "metadata": {
    "id": "bea983a3"
   },
   "source": [
    "---\n",
    "\n",
    "### Exercise 26:\n",
    "Find the index of the value `50` in the list `[10, 20, 30, 40, 50]`.\n",
    "\n",
    "```python\n",
    "# Exercise 26\n",
    "```"
   ]
  },
  {
   "cell_type": "code",
   "execution_count": 65,
   "id": "04eef5fb",
   "metadata": {},
   "outputs": [
    {
     "data": {
      "text/plain": [
       "4"
      ]
     },
     "execution_count": 65,
     "metadata": {},
     "output_type": "execute_result"
    }
   ],
   "source": [
    "list=[10, 20, 30, 40, 50]\n",
    "list.index(50)"
   ]
  },
  {
   "cell_type": "markdown",
   "id": "ae930ae1",
   "metadata": {
    "id": "bea983a3"
   },
   "source": [
    "---\n",
    "\n",
    "### Exercise 27:\n",
    "Sort the list `names = [\"Alice\", \"Bob\", \"Charlie\", \"David\"]` in alphabetical order.\n",
    "\n",
    "```python\n",
    "# Exercise 27\n",
    "```"
   ]
  },
  {
   "cell_type": "code",
   "execution_count": 68,
   "id": "6dd60871",
   "metadata": {},
   "outputs": [
    {
     "name": "stdout",
     "output_type": "stream",
     "text": [
      "['Alice', 'Bob', 'Charlie', 'David']\n"
     ]
    }
   ],
   "source": [
    "names = [\"Alice\", \"Bob\", \"David\",\"Charlie\"]\n",
    "names.sort()\n",
    "print(names)"
   ]
  },
  {
   "cell_type": "markdown",
   "id": "b219c309",
   "metadata": {
    "id": "bea983a3"
   },
   "source": [
    "---\n",
    "\n",
    "### Exercise 28:\n",
    "Write a Python function that takes a list of integers as input and returns the largest number.\n",
    "\n",
    "```python\n",
    "# Exercise 28\n",
    "```"
   ]
  },
  {
   "cell_type": "code",
   "execution_count": 17,
   "id": "d60f27e1",
   "metadata": {},
   "outputs": [
    {
     "name": "stdout",
     "output_type": "stream",
     "text": [
      "The largest number is: 11\n"
     ]
    }
   ],
   "source": [
    "def find_largest(numbers):\n",
    "    if not numbers:\n",
    "        return None\n",
    "    largest = numbers[0]\n",
    "    for num in numbers:\n",
    "        if num > largest:\n",
    "            largest = num\n",
    "    return largest\n",
    "nums=[4,7,11,9,1]\n",
    "print(\"The largest number is:\", find_largest(nums))"
   ]
  },
  {
   "cell_type": "markdown",
   "id": "611a24bb",
   "metadata": {
    "id": "bea983a3"
   },
   "source": [
    "---\n",
    "\n",
    "### Exercise 29:\n",
    "Use the `count()` method to count how many times `\"apple\"` appears in the list `fruits = [\"apple\", \"banana\", \"apple\", \"orange\"]`.\n",
    "\n",
    "```python\n",
    "# Exercise 29\n",
    "```"
   ]
  },
  {
   "cell_type": "code",
   "execution_count": 69,
   "id": "c632f7d0",
   "metadata": {},
   "outputs": [
    {
     "data": {
      "text/plain": [
       "2"
      ]
     },
     "execution_count": 69,
     "metadata": {},
     "output_type": "execute_result"
    }
   ],
   "source": [
    "fruits = [\"apple\", \"banana\", \"apple\", \"orange\"]\n",
    "fruits.count('apple')"
   ]
  },
  {
   "cell_type": "markdown",
   "id": "b448ca45",
   "metadata": {
    "id": "bea983a3"
   },
   "source": [
    "---\n",
    "\n",
    "### Exercise 30:\n",
    "Create a dictionary `person` where keys are `\"name\"`, `\"age\"`, and `\"city\"`, and values are `\"Alice\"`, `25`, and `\"New York\"` respectively. Then access the value of the `\"city\"` key.\n",
    "\n",
    "```python\n",
    "# Exercise 30\n",
    "```"
   ]
  },
  {
   "cell_type": "code",
   "execution_count": 2,
   "id": "367579d4",
   "metadata": {},
   "outputs": [
    {
     "name": "stdout",
     "output_type": "stream",
     "text": [
      "New York\n"
     ]
    }
   ],
   "source": [
    "person={\"name\": \"Alice\", \"age\":25, \"city\":\"New York\"}\n",
    "print(person[\"city\"])"
   ]
  },
  {
   "cell_type": "markdown",
   "id": "35a795e5",
   "metadata": {
    "id": "bea983a3"
   },
   "source": [
    "---\n",
    "\n",
    "### Exercise 31:\n",
    "Write a Python function that takes a list as input and returns a new list with all duplicates removed.\n",
    "\n",
    "```python\n",
    "# Exercise 31\n",
    "```"
   ]
  },
  {
   "cell_type": "code",
   "execution_count": 3,
   "id": "c28db66f",
   "metadata": {},
   "outputs": [
    {
     "data": {
      "text/plain": [
       "{1, 3, 4, 7, 8, 9}"
      ]
     },
     "execution_count": 3,
     "metadata": {},
     "output_type": "execute_result"
    }
   ],
   "source": [
    "list_0=[1,1,3,4,7,7,7,8,9]\n",
    "x=set(list_0)\n",
    "x"
   ]
  },
  {
   "cell_type": "markdown",
   "id": "29e7416c",
   "metadata": {
    "id": "bea983a3"
   },
   "source": [
    "---\n",
    "\n",
    "### Exercise 32:\n",
    "Write a Python function that takes two lists and returns their intersection.\n",
    "\n",
    "```python\n",
    "# Exercise 32\n",
    "```"
   ]
  },
  {
   "cell_type": "code",
   "execution_count": 4,
   "id": "15ab5237",
   "metadata": {},
   "outputs": [
    {
     "name": "stdout",
     "output_type": "stream",
     "text": [
      "[2, 3, 4, 5, 8.9, 6, 9]\n"
     ]
    }
   ],
   "source": [
    "c=[2,3,4,5]\n",
    "d=[8.9,6,9]\n",
    "e=c+d\n",
    "print(e)"
   ]
  },
  {
   "cell_type": "markdown",
   "id": "19a70d1f",
   "metadata": {
    "id": "bea983a3"
   },
   "source": [
    "---\n",
    "\n",
    "### Exercise 33:\n",
    "Create a generator that yields the squares of numbers from 1 to 10.\n",
    "\n",
    "```python\n",
    "# Exercise 33\n",
    "```"
   ]
  },
  {
   "cell_type": "code",
   "execution_count": 5,
   "id": "0c614e52",
   "metadata": {},
   "outputs": [
    {
     "name": "stdout",
     "output_type": "stream",
     "text": [
      "i x 1 = 1\n",
      "i x 2 = 4\n",
      "i x 3 = 9\n",
      "i x 4 = 16\n",
      "i x 5 = 25\n",
      "i x 6 = 36\n",
      "i x 7 = 49\n",
      "i x 8 = 64\n",
      "i x 9 = 81\n"
     ]
    }
   ],
   "source": [
    "for i in range (1,10):\n",
    "    print(f\"i x {i} = {i * i}\")"
   ]
  },
  {
   "cell_type": "markdown",
   "id": "f88821ff",
   "metadata": {
    "id": "bea983a3"
   },
   "source": [
    "---\n",
    "\n",
    "### Exercise 34:\n",
    "Write a Python function that takes a dictionary as input and returns the sum of all its values.\n",
    "\n",
    "```python\n",
    "# Exercise 34\n",
    "```"
   ]
  },
  {
   "cell_type": "code",
   "execution_count": null,
   "id": "253a239f",
   "metadata": {},
   "outputs": [],
   "source": []
  },
  {
   "cell_type": "markdown",
   "id": "9aa9d992",
   "metadata": {
    "id": "bea983a3"
   },
   "source": [
    "---\n",
    "\n",
    "### Exercise 35:\n",
    "Use the `sorted()` function to sort the list `[3, 1, 4, 1, 5, 9]` in ascending order.\n",
    "\n",
    "```python\n",
    "# Exercise 35\n",
    "```"
   ]
  },
  {
   "cell_type": "code",
   "execution_count": 76,
   "id": "82dc4c3a",
   "metadata": {},
   "outputs": [
    {
     "name": "stdout",
     "output_type": "stream",
     "text": [
      "[1, 1, 3, 4, 5, 9]\n"
     ]
    }
   ],
   "source": [
    "fun=[3, 1, 4, 1, 5, 9]\n",
    "fun.sort()\n",
    "print(fun)"
   ]
  },
  {
   "cell_type": "markdown",
   "id": "a2caa4aa",
   "metadata": {
    "id": "bea983a3"
   },
   "source": [
    "---\n",
    "\n",
    "### Exercise 36:\n",
    "Write a Python function that takes a list of strings as input and returns the longest string.\n",
    "\n",
    "```python\n",
    "# Exercise 36\n",
    "```"
   ]
  },
  {
   "cell_type": "code",
   "execution_count": 3,
   "id": "c7bee167",
   "metadata": {},
   "outputs": [
    {
     "name": "stdout",
     "output_type": "stream",
     "text": [
      "The longest string is: Marsabit\n"
     ]
    }
   ],
   "source": [
    "list_1=[\"Nairobi\",\"Embu\",\"Nakuru\",\"Marsabit\",\"Nyeri\"]\n",
    "def longest_string(strings):\n",
    "    if not strings: \n",
    "        return None\n",
    "    return max(strings, key=len)\n",
    "\n",
    "print(\"The longest string is:\", longest_string(list_1))\n"
   ]
  },
  {
   "cell_type": "code",
   "execution_count": null,
   "id": "6ebb9e73",
   "metadata": {},
   "outputs": [],
   "source": []
  },
  {
   "cell_type": "markdown",
   "id": "a765433d",
   "metadata": {
    "id": "bea983a3"
   },
   "source": [
    "---\n",
    "\n",
    "### Exercise 37:\n",
    "Check if all the elements in the list `[1, 2, 3, 4, 5]` are greater than 0 using the `all()` function.\n",
    "\n",
    "```python\n",
    "# Exercise 37\n",
    "```"
   ]
  },
  {
   "cell_type": "code",
   "execution_count": 1,
   "id": "822a240a",
   "metadata": {},
   "outputs": [
    {
     "data": {
      "text/plain": [
       "True"
      ]
     },
     "execution_count": 1,
     "metadata": {},
     "output_type": "execute_result"
    }
   ],
   "source": [
    "lst=[1, 2, 3, 4, 5]\n",
    "all(lst,)"
   ]
  },
  {
   "cell_type": "markdown",
   "id": "10184a58",
   "metadata": {
    "id": "bea983a3"
   },
   "source": [
    "---\n",
    "\n",
    "### Exercise 38:\n",
    "Create a list of tuples where each tuple contains a number and its square for numbers from 1 to 5.\n",
    "\n",
    "```python\n",
    "# Exercise 38\n",
    "```"
   ]
  },
  {
   "cell_type": "code",
   "execution_count": 4,
   "id": "eb49ca70",
   "metadata": {},
   "outputs": [
    {
     "data": {
      "text/plain": [
       "[(1, 1), (2, 4), (3, 9), (4, 16), (5, 25)]"
      ]
     },
     "execution_count": 4,
     "metadata": {},
     "output_type": "execute_result"
    }
   ],
   "source": [
    "list_of_tuples = [(x, x**2) for x in range(1, 6)]\n",
    "list_of_tuples\n"
   ]
  },
  {
   "cell_type": "markdown",
   "id": "b1297a16",
   "metadata": {
    "id": "bea983a3"
   },
   "source": [
    "---\n",
    "\n",
    "### Exercise 39:\n",
    "Write a Python function that takes a list of tuples and returns a list of the second elements from each tuple.\n",
    "\n",
    "```python\n",
    "# Exercise 39\n",
    "```"
   ]
  },
  {
   "cell_type": "code",
   "execution_count": 5,
   "id": "277d1129",
   "metadata": {},
   "outputs": [
    {
     "name": "stdout",
     "output_type": "stream",
     "text": [
      "['a', 'b', 'c']\n"
     ]
    }
   ],
   "source": [
    "def get_second_elements(tuples_list):\n",
    "    return [t[1] for t in tuples_list if len(t) > 1]\n",
    "\n",
    "data = [(1, 'a'), (2, 'b'), (3, 'c')]\n",
    "print(get_second_elements(data))\n"
   ]
  },
  {
   "cell_type": "markdown",
   "id": "49dc1f7c",
   "metadata": {
    "id": "bea983a3"
   },
   "source": [
    "---\n",
    "\n",
    "### Exercise 40:\n",
    "Write a Python function that flattens a list of lists into a single list.\n",
    "\n",
    "```python\n",
    "# Exercise 40\n",
    "```\n",
    "\n",
    "-"
   ]
  },
  {
   "cell_type": "code",
   "execution_count": 6,
   "id": "525080e2",
   "metadata": {},
   "outputs": [
    {
     "name": "stdout",
     "output_type": "stream",
     "text": [
      "[56, 43, 24, 15, 86, 67, 98]\n"
     ]
    }
   ],
   "source": [
    "def flatten_list(list_of_lists):\n",
    "    flat_list = []\n",
    "    for sublist in list_of_lists:\n",
    "        for item in sublist:\n",
    "            flat_list.append(item)\n",
    "    return flat_list\n",
    "\n",
    "\n",
    "data = [[56, 43], [24, 15], [86, 67, 98]]\n",
    "print(flatten_list(data))\n"
   ]
  },
  {
   "cell_type": "markdown",
   "id": "5994aa3e",
   "metadata": {
    "id": "bea983a3"
   },
   "source": [
    "--\n",
    "\n",
    "### Exercise 41:\n",
    "Use the `enumerate()` function to iterate through the list `[\"apple\", \"banana\", \"cherry\"]` and print the index and value.\n",
    "\n",
    "```python\n",
    "# Exercise 41\n",
    "```"
   ]
  },
  {
   "cell_type": "code",
   "execution_count": 9,
   "id": "b0158206",
   "metadata": {},
   "outputs": [
    {
     "data": {
      "text/plain": [
       "['apple', 'banana', 'cherry']"
      ]
     },
     "execution_count": 9,
     "metadata": {},
     "output_type": "execute_result"
    }
   ],
   "source": [
    "list_4=[\"apple\", \"banana\", \"cherry\"] \n",
    "enumerate(list_4)\n",
    "list_4"
   ]
  },
  {
   "cell_type": "markdown",
   "id": "5ab9b8f0",
   "metadata": {
    "id": "bea983a3"
   },
   "source": [
    "---\n",
    "\n",
    "### Exercise 42:\n",
    "Write a Python program that checks if a tuple is empty.\n",
    "\n",
    "```python\n",
    "# Exercise 42\n",
    "```"
   ]
  },
  {
   "cell_type": "code",
   "execution_count": 10,
   "id": "b4c85e3c",
   "metadata": {},
   "outputs": [
    {
     "name": "stdout",
     "output_type": "stream",
     "text": [
      "The tuple is empty.\n"
     ]
    }
   ],
   "source": [
    "my_tuple=()\n",
    "if len(my_tuple) == 0:\n",
    "    print(\"The tuple is empty.\")\n",
    "else:\n",
    "    print(\"The tuple is not empty.\")\n"
   ]
  },
  {
   "cell_type": "markdown",
   "id": "4077cb7b",
   "metadata": {
    "id": "bea983a3"
   },
   "source": [
    "---\n",
    "\n",
    "### Exercise 43:\n",
    "Create a list of even numbers between 1 and 20 using the `range()` function.\n",
    "\n",
    "```python\n",
    "# Exercise 43\n",
    "```"
   ]
  },
  {
   "cell_type": "code",
   "execution_count": 15,
   "id": "48344058",
   "metadata": {},
   "outputs": [
    {
     "name": "stdout",
     "output_type": "stream",
     "text": [
      "[2, 4, 6, 8, 10, 12, 14, 16, 18, 20]\n"
     ]
    }
   ],
   "source": [
    "list_9=[]\n",
    "for i in range(1,21):\n",
    "    if i%2==0:\n",
    "        list_9.append(i)\n",
    "    \n",
    "print(list_9)"
   ]
  },
  {
   "cell_type": "markdown",
   "id": "0a7721d1",
   "metadata": {
    "id": "bea983a3"
   },
   "source": [
    "---\n",
    "\n",
    "### Exercise 44:\n",
    "Write a Python function that takes a list of numbers as input and returns the list in reverse order.\n",
    "\n",
    "```python\n",
    "# Exercise 44\n",
    "```"
   ]
  },
  {
   "cell_type": "code",
   "execution_count": 18,
   "id": "f927d9d0",
   "metadata": {},
   "outputs": [
    {
     "name": "stdout",
     "output_type": "stream",
     "text": [
      "Enter numbers separated by spaces: 12 87 93 23\n",
      "Reversed list: [23, 93, 87, 12]\n"
     ]
    }
   ],
   "source": [
    "def reverse_list():\n",
    "    user_input = input(\"Enter numbers separated by spaces: \")\n",
    "    numbers = [int(x) for x in user_input.split()]\n",
    "    return numbers[::-1]\n",
    "\n",
    "print(\"Reversed list:\", reverse_list())\n"
   ]
  },
  {
   "cell_type": "markdown",
   "id": "f3b14d78",
   "metadata": {
    "id": "bea983a3"
   },
   "source": [
    "---\n",
    "\n",
    "### Exercise 45:\n",
    "Create a dictionary comprehension that maps numbers from 1 to 5 to their cubes.\n",
    "\n",
    "```python\n",
    "# Exercise 45\n",
    "```"
   ]
  },
  {
   "cell_type": "code",
   "execution_count": 19,
   "id": "c7db9a5f",
   "metadata": {},
   "outputs": [
    {
     "name": "stdout",
     "output_type": "stream",
     "text": [
      "{1: 1, 2: 8, 3: 27, 4: 64, 5: 125}\n"
     ]
    }
   ],
   "source": [
    "cubes = {x: x**3 for x in range(1, 6)}\n",
    "print(cubes)\n"
   ]
  },
  {
   "cell_type": "markdown",
   "id": "785d8c56",
   "metadata": {
    "id": "bea983a3"
   },
   "source": [
    "---\n",
    "\n",
    "### Exercise 46:\n",
    "Write a Python program that creates a new list containing only the unique elements of the list `[1, 2, 2, 3, 4, 4, 5]`.\n",
    "\n",
    "```python\n",
    "# Exercise 46\n",
    "```"
   ]
  },
  {
   "cell_type": "code",
   "execution_count": 20,
   "id": "158a7c19",
   "metadata": {},
   "outputs": [
    {
     "name": "stdout",
     "output_type": "stream",
     "text": [
      "[1, 2, 3, 4, 5]\n"
     ]
    }
   ],
   "source": [
    "list__1 = [1, 2, 2, 3, 4, 4, 5]\n",
    "new_list = []\n",
    "for item in list__1:\n",
    "    if item not in new_list:\n",
    "        new_list.append(item)\n",
    "\n",
    "print(new_list)\n"
   ]
  },
  {
   "cell_type": "markdown",
   "id": "43b5f287",
   "metadata": {
    "id": "bea983a3"
   },
   "source": [
    "---\n",
    "\n",
    "### Exercise 47:\n",
    "Write a Python function that takes a list of dictionaries and returns a list of the values for a given key.\n",
    "\n",
    "```python\n",
    "# Exercise 47\n",
    "```"
   ]
  },
  {
   "cell_type": "code",
   "execution_count": 24,
   "id": "a3adf432",
   "metadata": {},
   "outputs": [
    {
     "name": "stdout",
     "output_type": "stream",
     "text": [
      "[25, 30]\n"
     ]
    }
   ],
   "source": [
    "data = [\n",
    "    {\"name\": \"Joy\", \"age\": 25},\n",
    "    {\"name\": \"Claire\", \"age\": 30}\n",
    "]\n",
    "def get_values(dict_list, key):\n",
    "    return [d[key] for d in dict_list if key in d]\n",
    "\n",
    "\n",
    "\n",
    "print(get_values(data, \"age\"))"
   ]
  },
  {
   "cell_type": "markdown",
   "id": "1204a743",
   "metadata": {
    "id": "bea983a3"
   },
   "source": [
    "---\n",
    "\n",
    "### Exercise 48:\n",
    "Write a Python function that uses a generator to yield the Fibonacci sequence up to `n` terms.\n",
    "\n",
    "```python\n",
    "# Exercise 48\n",
    "```"
   ]
  },
  {
   "cell_type": "code",
   "execution_count": 25,
   "id": "1f94622c",
   "metadata": {},
   "outputs": [
    {
     "name": "stdout",
     "output_type": "stream",
     "text": [
      "0 1 1 2 3 5 8 13 21 34 "
     ]
    }
   ],
   "source": [
    "def fibonacci(n):\n",
    "    a, b = 0, 1\n",
    "    count = 0\n",
    "    while count < n:\n",
    "        yield a\n",
    "        a, b = b, a + b\n",
    "        count += 1\n",
    "\n",
    "\n",
    "n_terms = 10\n",
    "for num in fibonacci(n_terms):\n",
    "    print(num, end=' ')\n"
   ]
  },
  {
   "cell_type": "markdown",
   "id": "dac4e7d7",
   "metadata": {
    "id": "bea983a3"
   },
   "source": [
    "---\n",
    "\n",
    "### Exercise 49:\n",
    "Write a Python function that takes a string and returns a list of all unique characters in the string.\n",
    "\n",
    "```python\n",
    "# Exercise 49\n",
    "```"
   ]
  },
  {
   "cell_type": "code",
   "execution_count": 26,
   "id": "b49f7093",
   "metadata": {},
   "outputs": [
    {
     "name": "stdout",
     "output_type": "stream",
     "text": [
      "['c', 'o', 'd', 'i', 'n', 'g', ' ', 's', 'f', 'u']\n"
     ]
    }
   ],
   "source": [
    "def unique_characters_ordered(s):\n",
    "    seen = set()\n",
    "    result = []\n",
    "    for char in s:\n",
    "        if char not in seen:\n",
    "            seen.add(char)\n",
    "            result.append(char)\n",
    "    return result\n",
    "\n",
    "print(unique_characters_ordered(\"coding is fun\"))\n"
   ]
  },
  {
   "cell_type": "markdown",
   "id": "36ebf07f",
   "metadata": {
    "id": "bea983a3"
   },
   "source": [
    "---\n",
    "\n",
    "### Exercise 50:\n",
    "Write a Python function that merges two sorted lists into a single sorted list.\n",
    "\n",
    "```python\n",
    "# Exercise 50\n",
    "```"
   ]
  },
  {
   "cell_type": "code",
   "execution_count": 27,
   "id": "fa25c6bd",
   "metadata": {},
   "outputs": [
    {
     "name": "stdout",
     "output_type": "stream",
     "text": [
      "[1, 2, 3, 4, 5, 6]\n"
     ]
    }
   ],
   "source": [
    "def merge_sorted_lists(list1, list2):\n",
    "    merged = []\n",
    "    i = j = 0\n",
    "    while i < len(list1) and j < len(list2):\n",
    "        if list1[i] < list2[j]:\n",
    "            merged.append(list1[i])\n",
    "            i += 1\n",
    "        else:\n",
    "            merged.append(list2[j])\n",
    "            j += 1\n",
    "    while i < len(list1):\n",
    "        merged.append(list1[i])\n",
    "        i += 1\n",
    "    while j < len(list2):\n",
    "        merged.append(list2[j])\n",
    "        j += 1\n",
    "    return merged\n",
    "\n",
    "a = [1, 3, 5]\n",
    "b = [2, 4, 6]\n",
    "print(merge_sorted_lists(a, b))\n"
   ]
  },
  {
   "cell_type": "markdown",
   "id": "aa7c5566",
   "metadata": {
    "id": "bea983a3"
   },
   "source": [
    "---\n",
    "\n",
    "### Exercise 51:\n",
    "Use the `filter()` function to filter out odd numbers from the list `[1, 2, 3, 4, 5, 6]`.\n",
    "\n",
    "```python\n",
    "# Exercise 51\n",
    "```"
   ]
  },
  {
   "cell_type": "code",
   "execution_count": 31,
   "id": "713361ce",
   "metadata": {},
   "outputs": [
    {
     "name": "stdout",
     "output_type": "stream",
     "text": [
      "[1, 3, 5]\n"
     ]
    }
   ],
   "source": [
    "def is_odd(x):\n",
    "    return x % 2 != 0\n",
    "lst_a = [1, 2, 3, 4, 5, 6]\n",
    "odd_numbers = list(filter(is_odd, lst_a))\n",
    "\n",
    "print(odd_numbers)\n"
   ]
  },
  {
   "cell_type": "markdown",
   "id": "53366ecf",
   "metadata": {
    "id": "bea983a3"
   },
   "source": [
    "---\n",
    "\n",
    "### Exercise 52:\n",
    "Write a Python program that converts a list of tuples `[(1, 2), (3, 4), (5, 6)]` into a dictionary.\n",
    "\n",
    "```python\n",
    "# Exercise 52\n",
    "```"
   ]
  },
  {
   "cell_type": "code",
   "execution_count": 32,
   "id": "91cb89a8",
   "metadata": {},
   "outputs": [
    {
     "name": "stdout",
     "output_type": "stream",
     "text": [
      "{1: 2, 3: 4, 5: 6}\n"
     ]
    }
   ],
   "source": [
    "list_b = [(1, 2), (3, 4), (5, 6)]\n",
    "dict_a = dict(list_b)\n",
    "print(dict_a)\n"
   ]
  },
  {
   "cell_type": "markdown",
   "id": "2955da2f",
   "metadata": {
    "id": "bea983a3"
   },
   "source": [
    "---\n",
    "\n",
    "### Exercise 53:\n",
    "Write a Python function that takes two sets and returns their symmetric difference.\n",
    "\n",
    "```python\n",
    "# Exercise 53\n",
    "```"
   ]
  },
  {
   "cell_type": "code",
   "execution_count": 35,
   "id": "33ea8bdc",
   "metadata": {},
   "outputs": [
    {
     "name": "stdout",
     "output_type": "stream",
     "text": [
      "{35, 38, 11, 47, 53, 62}\n"
     ]
    }
   ],
   "source": [
    "def symmetric_difference(set1, set2):\n",
    "    return set1.symmetric_difference(set2)\n",
    "a = {11, 62, 53}\n",
    "b = {38, 47, 35}\n",
    "\n",
    "print(symmetric_difference(a,b))\n"
   ]
  },
  {
   "cell_type": "markdown",
   "id": "fe4dd85a",
   "metadata": {
    "id": "bea983a3"
   },
   "source": [
    "---\n",
    "\n",
    "### Exercise 54:\n",
    "Write a Python program that finds the common elements in three lists `list1`, `list2`, and `list3`.\n",
    "\n",
    "```python\n",
    "# Exercise 54\n",
    "```"
   ]
  },
  {
   "cell_type": "code",
   "execution_count": 36,
   "id": "c241caaf",
   "metadata": {},
   "outputs": [
    {
     "name": "stdout",
     "output_type": "stream",
     "text": [
      "Common elements: {3, 4}\n"
     ]
    }
   ],
   "source": [
    "list1 = [1, 2, 3, 4]\n",
    "list2 = [3, 4, 5, 6]\n",
    "list3 = [4, 3, 7, 8]\n",
    "common_elements = set(list1) & set(list2) & set(list3)\n",
    "print(\"Common elements:\", common_elements)"
   ]
  },
  {
   "cell_type": "markdown",
   "id": "69607eef",
   "metadata": {
    "id": "bea983a3"
   },
   "source": [
    "---\n",
    "\n",
    "### Exercise 55:\n",
    "Write a Python function that returns the factorial of a number using recursion.\n",
    "\n",
    "```python\n",
    "# Exercise 55\n",
    "```"
   ]
  },
  {
   "cell_type": "code",
   "execution_count": 40,
   "id": "ba660234",
   "metadata": {},
   "outputs": [
    {
     "name": "stdout",
     "output_type": "stream",
     "text": [
      "Factorial of 5 is 120\n"
     ]
    }
   ],
   "source": [
    "def fact(n):\n",
    "    if n == 0 or n == 1:\n",
    "        return 1\n",
    "    else:\n",
    "        return n * fact(n - 1)\n",
    "num = 5\n",
    "print(f\"Factorial of {num} is {fact(num)}\")\n"
   ]
  },
  {
   "cell_type": "markdown",
   "id": "687bb1db",
   "metadata": {
    "id": "bea983a3"
   },
   "source": [
    "---\n",
    "\n",
    "### Exercise 56:\n",
    "Write a Python program that removes all empty strings from the list `[\"apple\", \"\", \"banana\", \"\", \"cherry\"]`.\n",
    "\n",
    "```python\n",
    "# Exercise 56\n",
    "```"
   ]
  },
  {
   "cell_type": "code",
   "execution_count": 41,
   "id": "e78d50db",
   "metadata": {},
   "outputs": [
    {
     "name": "stdout",
     "output_type": "stream",
     "text": [
      "['apple', 'banana', 'cherry']\n"
     ]
    }
   ],
   "source": [
    "fruits = [\"apple\", \"\", \"banana\", \"\", \"cherry\"]\n",
    "filtered_fruits = [fruit for fruit in fruits if fruit != \"\"]\n",
    "\n",
    "print(filtered_fruits)\n"
   ]
  },
  {
   "cell_type": "markdown",
   "id": "5b6dd272",
   "metadata": {
    "id": "bea983a3"
   },
   "source": [
    "---\n",
    "\n",
    "### Exercise 57:\n",
    "Write a Python function that takes a dictionary and returns a new dictionary with the keys and values swapped.\n",
    "\n",
    "```python\n",
    "# Exercise 57\n",
    "```"
   ]
  },
  {
   "cell_type": "code",
   "execution_count": 48,
   "id": "add2062e",
   "metadata": {},
   "outputs": [
    {
     "name": "stdout",
     "output_type": "stream",
     "text": [
      "Original dictionary: {'name': 'Charlotte', 'age': 24, 'height': 5.2}\n",
      "Swapped dictionary: {'Charlotte': 'name', 24: 'age', 5.2: 'height'}\n"
     ]
    }
   ],
   "source": [
    "def swap_dict(d):\n",
    "    return {value: key for key, value in d.items()}\n",
    "original_dict = {\"name\": \"Charlotte\", \"age\": 24, \"height\": 5.2}\n",
    "swapped_dict = swap_dict(original_dict)\n",
    "\n",
    "print(\"Original dictionary:\", original_dict)\n",
    "print(\"Swapped dictionary:\", swapped_dict)\n"
   ]
  },
  {
   "cell_type": "markdown",
   "id": "be0e8185",
   "metadata": {
    "id": "bea983a3"
   },
   "source": [
    "---\n",
    "\n",
    "### Exercise 58:\n",
    "Write a Python function that takes a list of integers and returns a new list with only the even numbers.\n",
    "\n",
    "```python\n",
    "# Exercise 58\n",
    "```"
   ]
  },
  {
   "cell_type": "code",
   "execution_count": 49,
   "id": "b1ba35e0",
   "metadata": {},
   "outputs": [
    {
     "name": "stdout",
     "output_type": "stream",
     "text": [
      "[24, 44, 32]\n"
     ]
    }
   ],
   "source": [
    "def int_even(lista):\n",
    "    return [num for num in lista if num % 2 == 0]\n",
    "nums = [24,23,37,19,44,32]\n",
    "even_nums = int_even(nums)\n",
    "print(even_nums)\n"
   ]
  },
  {
   "cell_type": "markdown",
   "id": "2d26ca15",
   "metadata": {
    "id": "bea983a3"
   },
   "source": [
    "---\n",
    "\n",
    "### Exercise 59:\n",
    "Write a Python function that takes a list of tuples and returns a list of the first elements of each tuple.\n",
    "\n",
    "```python\n",
    "# Exercise 59\n",
    "```"
   ]
  },
  {
   "cell_type": "code",
   "execution_count": 50,
   "id": "ec8e34db",
   "metadata": {},
   "outputs": [
    {
     "name": "stdout",
     "output_type": "stream",
     "text": [
      "['Kenya', 'Ghana', 'Botswana']\n"
     ]
    }
   ],
   "source": [
    "def first_elements(tuple_list):\n",
    "    return [t[0] for t in tuple_list if len(t) > 0]\n",
    "\n",
    "data = [('Kenya','Tanzania'), ('Ghana', 'Nigeria'), ('Botswana', 'Madagascar')]\n",
    "print(first_elements(data))\n"
   ]
  },
  {
   "cell_type": "markdown",
   "id": "422d127f",
   "metadata": {
    "id": "bea983a3"
   },
   "source": [
    "---\n",
    "\n",
    "### Exercise 60:\n",
    "Write a Python program that removes duplicates from a list without changing the order of elements.\n",
    "\n",
    "```python\n",
    "# Exercise 60\n",
    "```"
   ]
  },
  {
   "cell_type": "code",
   "execution_count": 53,
   "id": "a7ae8d1e",
   "metadata": {},
   "outputs": [
    {
     "name": "stdout",
     "output_type": "stream",
     "text": [
      "[11, 54, 33, 32, 53]\n"
     ]
    }
   ],
   "source": [
    "lstb = [11, 54, 33, 32, 53]\n",
    "unique = []\n",
    "seen = set()\n",
    "for num in lstb:\n",
    "    if num not in seen:\n",
    "        unique.append(num)\n",
    "        seen.add(num)\n",
    "\n",
    "print(unique)\n"
   ]
  },
  {
   "cell_type": "markdown",
   "id": "8cfe0faf",
   "metadata": {
    "id": "bea983a3"
   },
   "source": [
    "---\n",
    "\n",
    "### Exercise 61:\n",
    "Use the `map()` function to convert a list of strings to a list of their lengths.\n",
    "\n",
    "```python\n",
    "# Exercise 61\n",
    "```"
   ]
  },
  {
   "cell_type": "code",
   "execution_count": 55,
   "id": "c7fe1295",
   "metadata": {},
   "outputs": [
    {
     "name": "stdout",
     "output_type": "stream",
     "text": [
      "[8, 5, 5]\n"
     ]
    }
   ],
   "source": [
    "lists = [\"Cameroon\", \"Benin\", \"Congo\"]\n",
    "lengths = list(map(len, lists))\n",
    "\n",
    "print(lengths)\n"
   ]
  },
  {
   "cell_type": "markdown",
   "id": "c94b18a7",
   "metadata": {
    "id": "bea983a3"
   },
   "source": [
    "---\n",
    "\n",
    "### Exercise 62:\n",
    "Write a Python program that calculates the average of a list of numbers.\n",
    "\n",
    "```python\n",
    "# Exercise 62\n",
    "```"
   ]
  },
  {
   "cell_type": "code",
   "execution_count": 56,
   "id": "b11d5089",
   "metadata": {},
   "outputs": [
    {
     "name": "stdout",
     "output_type": "stream",
     "text": [
      "Average: 39.4\n"
     ]
    }
   ],
   "source": [
    "listn = [7, 12, 65, 47, 66]\n",
    "if len(listn) > 0:\n",
    "    average = sum(listn) / len(listn)\n",
    "    print(\"Average:\", average)\n",
    "else:\n",
    "    print(\"The list is empty.\")\n"
   ]
  },
  {
   "cell_type": "markdown",
   "id": "04178a02",
   "metadata": {
    "id": "bea983a3"
   },
   "source": [
    "---\n",
    "\n",
    "### Exercise 63:\n",
    "Write a Python function that generates a list of the first `n` Fibonacci numbers.\n",
    "\n",
    "```python\n",
    "# Exercise 63\n",
    "```"
   ]
  },
  {
   "cell_type": "code",
   "execution_count": 57,
   "id": "ca6ef6cd",
   "metadata": {},
   "outputs": [
    {
     "name": "stdout",
     "output_type": "stream",
     "text": [
      "[4, 10, 14, 24, 38, 62, 100, 162, 262, 424]\n"
     ]
    }
   ],
   "source": [
    "def fibonacci_list(n):\n",
    "    fib = []\n",
    "    a, b = 4, 10\n",
    "    for _ in range(n):\n",
    "        fib.append(a)\n",
    "        a, b = b, a + b\n",
    "    return fib\n",
    "\n",
    "\n",
    "n_terms = 10\n",
    "print(fibonacci_list(n_terms))\n"
   ]
  },
  {
   "cell_type": "markdown",
   "id": "2430e5e9",
   "metadata": {
    "id": "bea983a3"
   },
   "source": [
    "---\n",
    "\n",
    "### Exercise 64:\n",
    "Write a Python program that counts how many times each element appears in the list `[\"apple\", \"banana\", \"apple\", \"cherry\"]`.\n",
    "\n",
    "```python\n",
    "# Exercise 64\n",
    "```"
   ]
  },
  {
   "cell_type": "code",
   "execution_count": 60,
   "id": "3ea81223",
   "metadata": {},
   "outputs": [
    {
     "name": "stdout",
     "output_type": "stream",
     "text": [
      "{'apple': 2, 'banana': 1, 'cherry': 1}\n"
     ]
    }
   ],
   "source": [
    "fruits = [\"apple\", \"banana\", \"apple\", \"cherry\"]\n",
    "counts = {}\n",
    "counts = {}\n",
    "\n",
    "for fruit in fruits:\n",
    "    if fruit in counts:\n",
    "        counts[fruit] += 1\n",
    "    else:\n",
    "        counts[fruit] = 1\n",
    "\n",
    "print(counts)\n"
   ]
  },
  {
   "cell_type": "markdown",
   "id": "d5fff484",
   "metadata": {
    "id": "bea983a3"
   },
   "source": [
    "---\n",
    "\n",
    "### Exercise 65:\n",
    "Write a Python program that removes all occurrences of a specific value from a list.\n",
    "\n",
    "```python\n",
    "# Exercise 65\n",
    "```"
   ]
  },
  {
   "cell_type": "code",
   "execution_count": 62,
   "id": "b35380f0",
   "metadata": {},
   "outputs": [
    {
     "name": "stdout",
     "output_type": "stream",
     "text": [
      "[4, 10, 14, 24, 38, 62, 162, 262, 424]\n"
     ]
    }
   ],
   "source": [
    "listr= [4, 10, 14, 24, 38, 62, 100, 162, 262, 424]\n",
    "remove = 100\n",
    "filtered_list = [num for num in listr if num != remove]\n",
    "\n",
    "print(filtered_list)\n"
   ]
  },
  {
   "cell_type": "markdown",
   "id": "d594c2b5",
   "metadata": {
    "id": "bea983a3"
   },
   "source": [
    "---\n",
    "\n",
    "### Exercise 66:\n",
    "Write a Python function that takes a list of strings and returns a list of the strings that start with a vowel.\n",
    "\n",
    "```python\n",
    "# Exercise 66\n",
    "```"
   ]
  },
  {
   "cell_type": "code",
   "execution_count": 63,
   "id": "c373427f",
   "metadata": {},
   "outputs": [
    {
     "name": "stdout",
     "output_type": "stream",
     "text": [
      "['Algeria', 'Egypt', 'Uganda']\n"
     ]
    }
   ],
   "source": [
    "def starts_with_vowel(strings):\n",
    "    vowels = \"AEIOUaeiou\"\n",
    "    return [s for s in strings if s and s[0] in vowels]\n",
    "countries = [\"Algeria\", \"Botswana\",\"Egypt\", \"Ghana\", \"Uganda\", \"Kenya\"]\n",
    "vowel_words = starts_with_vowel(countries)\n",
    "print(vowel_words)\n"
   ]
  },
  {
   "cell_type": "markdown",
   "id": "b78a555d",
   "metadata": {
    "id": "bea983a3"
   },
   "source": [
    "---\n",
    "\n",
    "### Exercise 67:\n",
    "Write a Python program that finds the intersection of two sets `set1` and `set2`.\n",
    "\n",
    "```python\n",
    "# Exercise 67\n",
    "```"
   ]
  },
  {
   "cell_type": "code",
   "execution_count": 67,
   "id": "3c2744c1",
   "metadata": {},
   "outputs": [
    {
     "name": "stdout",
     "output_type": "stream",
     "text": [
      "Intersection: {62, 100, 38}\n"
     ]
    }
   ],
   "source": [
    "set1 = {4, 10, 14, 24, 38, 62, 100, 162, 262, 424}\n",
    "set2 = {11, 54, 33, 32,38, 62, 100, 53}\n",
    "intersection = set1 & set2  \n",
    "\n",
    "print(\"Intersection:\", intersection)\n"
   ]
  },
  {
   "cell_type": "markdown",
   "id": "f9738452",
   "metadata": {
    "id": "bea983a3"
   },
   "source": [
    "---\n",
    "\n",
    "### Exercise 68:\n",
    "Write a Python function that flattens a nested list.\n",
    "\n",
    "```python\n",
    "# Exercise 68\n",
    "```"
   ]
  },
  {
   "cell_type": "code",
   "execution_count": 68,
   "id": "ef25e08b",
   "metadata": {},
   "outputs": [
    {
     "name": "stdout",
     "output_type": "stream",
     "text": [
      "[18, 24, 13, 41, 25, 36, 27]\n"
     ]
    }
   ],
   "source": [
    "def flatten(nested_list):\n",
    "    flat_list = []\n",
    "    for item in nested_list:\n",
    "        if isinstance(item, list):\n",
    "            flat_list.extend(flatten(item))\n",
    "        else:\n",
    "            flat_list.append(item)\n",
    "    return flat_list\n",
    "\n",
    "\n",
    "nested = [18, [24, 13], [41, [25, 36]], 27]\n",
    "print(flatten(nested))\n"
   ]
  },
  {
   "cell_type": "markdown",
   "id": "7f580aaf",
   "metadata": {
    "id": "bea983a3"
   },
   "source": [
    "---\n",
    "\n",
    "### Exercise 69:\n",
    "Write a Python program that checks if all the elements in a list are unique.\n",
    "\n",
    "```python\n",
    "# Exercise 69\n",
    "```"
   ]
  },
  {
   "cell_type": "code",
   "execution_count": 70,
   "id": "4515dc95",
   "metadata": {},
   "outputs": [
    {
     "name": "stdout",
     "output_type": "stream",
     "text": [
      "All elements are unique: True\n"
     ]
    }
   ],
   "source": [
    "numbers = [21, 22, 43, 54, 51]\n",
    "are_unique = len(numbers) == len(set(numbers))\n",
    "\n",
    "print(\"All elements are unique:\", are_unique)\n"
   ]
  },
  {
   "cell_type": "markdown",
   "id": "fa60109f",
   "metadata": {
    "id": "bea983a3"
   },
   "source": [
    "---\n",
    "\n",
    "### Exercise 70:\n",
    "Use the `reduce()` function from the `functools` module to multiply all elements in a list.\n",
    "\n",
    "```python\n",
    "# Exercise 70\n",
    "```"
   ]
  },
  {
   "cell_type": "code",
   "execution_count": 74,
   "id": "0afd3dcd",
   "metadata": {},
   "outputs": [
    {
     "name": "stdout",
     "output_type": "stream",
     "text": [
      "4417686000\n"
     ]
    }
   ],
   "source": [
    "from functools import reduce\n",
    "numbers = [80, 75, 93, 87, 91]\n",
    "product = reduce(lambda x, y: x * y, numbers)\n",
    "\n",
    "print( product)"
   ]
  },
  {
   "cell_type": "markdown",
   "id": "bbcf4d1c",
   "metadata": {
    "id": "bea983a3"
   },
   "source": [
    "---\n",
    "\n",
    "### Exercise 71:\n",
    "Write a Python function that takes a list of strings and returns a dictionary where keys are strings and values are their lengths.\n",
    "\n",
    "```python\n",
    "# Exercise 71\n",
    "```"
   ]
  },
  {
   "cell_type": "code",
   "execution_count": 76,
   "id": "ba4fe952",
   "metadata": {},
   "outputs": [
    {
     "name": "stdout",
     "output_type": "stream",
     "text": [
      "{'vitenge': 7, 'ankara': 6, 'vintage': 7}\n"
     ]
    }
   ],
   "source": [
    "def strings_to_lengths(strings):\n",
    "    return {s: len(s) for s in strings}\n",
    "lsts2 = [\"vitenge\", \"ankara\", \"vintage\"]\n",
    "length_dict = strings_to_lengths(lsts2)\n",
    "print(length_dict)\n"
   ]
  },
  {
   "cell_type": "markdown",
   "id": "5fbc8b20",
   "metadata": {
    "id": "bea983a3"
   },
   "source": [
    "---\n",
    "\n",
    "### Exercise 72:\n",
    "Write a Python program that counts the number of vowels in a string.\n",
    "\n",
    "```python\n",
    "# Exercise 72\n",
    "```"
   ]
  },
  {
   "cell_type": "code",
   "execution_count": 78,
   "id": "0de6701c",
   "metadata": {},
   "outputs": [
    {
     "name": "stdout",
     "output_type": "stream",
     "text": [
      "4\n"
     ]
    }
   ],
   "source": [
    "strs = \"Mathematics\"\n",
    "vowels = \"aeiouAEIOU\"\n",
    "count = sum(1 for char in strs if char in vowels)\n",
    "\n",
    "print(count)\n"
   ]
  },
  {
   "cell_type": "markdown",
   "id": "e33bdf18",
   "metadata": {
    "id": "bea983a3"
   },
   "source": [
    "---\n",
    "\n",
    "### Exercise 73:\n",
    "Create a list of tuples where each tuple contains a number from 1 to 5 and its factorial.\n",
    "\n",
    "```python\n",
    "# Exercise 73\n",
    "```"
   ]
  },
  {
   "cell_type": "code",
   "execution_count": 79,
   "id": "27f879f4",
   "metadata": {},
   "outputs": [
    {
     "name": "stdout",
     "output_type": "stream",
     "text": [
      "[(1, 1), (2, 2), (3, 6), (4, 24), (5, 120)]\n"
     ]
    }
   ],
   "source": [
    "def fact(n):\n",
    "    result = 1\n",
    "    for i in range(1, n+1):\n",
    "        result *= i\n",
    "    return result\n",
    "\n",
    "fact_list = [(i, fact(i)) for i in range(1, 6)]\n",
    "print(fact_list)\n"
   ]
  },
  {
   "cell_type": "markdown",
   "id": "5c7c78d3",
   "metadata": {
    "id": "bea983a3"
   },
   "source": [
    "---\n",
    "\n",
    "### Exercise 74:\n",
    "Write a Python program that converts a list of dictionaries into a single dictionary by merging them.\n",
    "\n",
    "```python\n",
    "# Exercise 74\n",
    "```"
   ]
  },
  {
   "cell_type": "code",
   "execution_count": 81,
   "id": "371e53c4",
   "metadata": {},
   "outputs": [
    {
     "name": "stdout",
     "output_type": "stream",
     "text": [
      "{'cow': 'milk', 'hen': 'egg', 'pig': 'pork', 'goat': 'meat'}\n"
     ]
    }
   ],
   "source": [
    "dict_l = [{\"cow\": 'milk'}, {\"hen\": 'egg'}, {\"pig\": 'pork'}, {\"goat\": 'meat'}]\n",
    "merged_d = {}\n",
    "for d in dict_l:\n",
    "    merged_d.update(d)\n",
    "\n",
    "print(merged_d)\n"
   ]
  },
  {
   "cell_type": "markdown",
   "id": "e3bf241b",
   "metadata": {
    "id": "bea983a3"
   },
   "source": [
    "---\n",
    "\n",
    "### Exercise 75:\n",
    "Write a Python function that checks if a set is a subset of another set.\n",
    "\n",
    "```python\n",
    "# Exercise 75\n",
    "```"
   ]
  },
  {
   "cell_type": "code",
   "execution_count": 86,
   "id": "b9ad5df3",
   "metadata": {},
   "outputs": [
    {
     "name": "stdout",
     "output_type": "stream",
     "text": [
      "True\n",
      "False\n"
     ]
    }
   ],
   "source": [
    "def is_subset(set1, set2):\n",
    "    \"\"\"\n",
    "    Returns True if set1 is a subset of set2, False otherwise.\n",
    "    \"\"\"\n",
    "    return set1.issubset(set2)\n",
    "a = {7, 5, 9}\n",
    "b = {7, 12, 9, 14, 5}\n",
    "\n",
    "print(is_subset(a, b))  \n",
    "print(is_subset(b, a))  \n"
   ]
  },
  {
   "cell_type": "markdown",
   "id": "1a791f15",
   "metadata": {
    "id": "bea983a3"
   },
   "source": [
    "---\n",
    "\n",
    "### Exercise 76:\n",
    "Write a Python program that sorts a list of tuples based on the second element in each tuple.\n",
    "\n",
    "```python\n",
    "# Exercise 76\n",
    "```"
   ]
  },
  {
   "cell_type": "code",
   "execution_count": 85,
   "id": "2e1065a6",
   "metadata": {},
   "outputs": [
    {
     "name": "stdout",
     "output_type": "stream",
     "text": [
      "[(92, 71), (74, 82), (71, 83), (93, 95)]\n"
     ]
    }
   ],
   "source": [
    "t_list = [(71, 83), (92, 71), (74, 82), (93, 95)]\n",
    "s_list = sorted(t_list, key=lambda x: x[1])\n",
    "\n",
    "print(s_list)\n"
   ]
  },
  {
   "cell_type": "markdown",
   "id": "a1f8e5c9",
   "metadata": {
    "id": "bea983a3"
   },
   "source": [
    "---\n",
    "\n",
    "### Exercise 77:\n",
    "Write a Python function that takes a list of integers and returns a new list with only the positive integers.\n",
    "\n",
    "```python\n",
    "# Exercise 77\n",
    "```"
   ]
  },
  {
   "cell_type": "code",
   "execution_count": 88,
   "id": "18333205",
   "metadata": {},
   "outputs": [
    {
     "name": "stdout",
     "output_type": "stream",
     "text": [
      "[80, 95, 88]\n"
     ]
    }
   ],
   "source": [
    "def positive_num(n_lst):\n",
    "    return [n for n in n_lst if n > 0]\n",
    "n_list = [-73, 80, 95, -76, 88, -92]\n",
    "print(positive_num(n_list))\n"
   ]
  },
  {
   "cell_type": "markdown",
   "id": "9dbfb087",
   "metadata": {
    "id": "bea983a3"
   },
   "source": [
    "---\n",
    "\n",
    "### Exercise 78:\n",
    "Write a Python function that takes two sets and returns their union.\n",
    "\n",
    "```python\n",
    "# Exercise 78\n",
    "```"
   ]
  },
  {
   "cell_type": "code",
   "execution_count": 89,
   "id": "0fa555a8",
   "metadata": {},
   "outputs": [
    {
     "name": "stdout",
     "output_type": "stream",
     "text": [
      "{1, 2, 3, 4, 5}\n"
     ]
    }
   ],
   "source": [
    "def union(s1, s2):\n",
    "    return s1.union(s2)\n",
    "a = {1, 2, 3}\n",
    "b = {3, 4, 5}\n",
    "print(union(a, b))\n"
   ]
  },
  {
   "cell_type": "markdown",
   "id": "b0021a63",
   "metadata": {
    "id": "bea983a3"
   },
   "source": [
    "---\n",
    "\n",
    "### Exercise 79:\n",
    "Write a Python function that takes a list of numbers and returns the product of all the numbers.\n",
    "\n",
    "```python\n",
    "# Exercise 79\n",
    "```"
   ]
  },
  {
   "cell_type": "code",
   "execution_count": 90,
   "id": "4d0f9029",
   "metadata": {},
   "outputs": [
    {
     "name": "stdout",
     "output_type": "stream",
     "text": [
      "120\n"
     ]
    }
   ],
   "source": [
    "def prod(lst):\n",
    "    product = 1\n",
    "    for n in lst:\n",
    "        product *= n\n",
    "    return product\n",
    "\n",
    "# Example usage\n",
    "nums = [2, 3, 4, 5]\n",
    "print(prod(nums))\n"
   ]
  },
  {
   "cell_type": "markdown",
   "id": "d7b0e753",
   "metadata": {
    "id": "bea983a3"
   },
   "source": [
    "---\n",
    "\n",
    "### Exercise 80:\n",
    "Write a Python program that converts a list of characters into a string.\n",
    "\n",
    "```python\n",
    "# Exercise 80\n",
    "```"
   ]
  },
  {
   "cell_type": "code",
   "execution_count": 91,
   "id": "163fe8b4",
   "metadata": {},
   "outputs": [
    {
     "name": "stdout",
     "output_type": "stream",
     "text": [
      "Delhi\n"
     ]
    }
   ],
   "source": [
    "chs = ['D', 'e', 'l', 'h', 'i']\n",
    "string = ''.join(chs)\n",
    "\n",
    "print(string)\n"
   ]
  },
  {
   "cell_type": "markdown",
   "id": "2036774c",
   "metadata": {
    "id": "bea983a3"
   },
   "source": [
    "---\n",
    "\n",
    "### Exercise 81:\n",
    "Write a Python program that finds the second largest number in a list of integers.\n",
    "\n",
    "```python\n",
    "# Exercise 81\n",
    "```"
   ]
  },
  {
   "cell_type": "code",
   "execution_count": 92,
   "id": "d3e6ae8e",
   "metadata": {},
   "outputs": [
    {
     "name": "stdout",
     "output_type": "stream",
     "text": [
      "68\n"
     ]
    }
   ],
   "source": [
    "lst_n = [49, 52, 68, 70, 65]\n",
    "first = second = float('-inf')\n",
    "\n",
    "for n in lst_n:\n",
    "    if n > first:\n",
    "        second = first\n",
    "        first = n\n",
    "    elif n > second and n != first:\n",
    "        second = n\n",
    "\n",
    "print(second)\n"
   ]
  },
  {
   "cell_type": "markdown",
   "id": "3830ba0f",
   "metadata": {
    "id": "bea983a3"
   },
   "source": [
    "---\n",
    "\n",
    "### Exercise 82:\n",
    "Write a Python function that takes a dictionary and returns a list of its keys in sorted order.\n",
    "\n",
    "```python\n",
    "# Exercise 82\n",
    "```"
   ]
  },
  {
   "cell_type": "code",
   "execution_count": 93,
   "id": "6a80fb01",
   "metadata": {},
   "outputs": [
    {
     "name": "stdout",
     "output_type": "stream",
     "text": [
      "['Kales', 'cabbage', 'spinach']\n"
     ]
    }
   ],
   "source": [
    "def sort_k(d):\n",
    "    return sorted(d.keys())\n",
    "my_dict_9 = {'Kales': 20, 'cabbage': 15, 'spinach': 25}\n",
    "print(sort_k(my_dict_9))\n"
   ]
  },
  {
   "cell_type": "markdown",
   "id": "1b30ab23",
   "metadata": {
    "id": "bea983a3"
   },
   "source": [
    "---\n",
    "\n",
    "### Exercise 83:\n",
    "Write a Python program that finds the most common element in a list.\n",
    "\n",
    "```python\n",
    "# Exercise 83\n",
    "```"
   ]
  },
  {
   "cell_type": "code",
   "execution_count": 98,
   "id": "89474159",
   "metadata": {},
   "outputs": [
    {
     "name": "stdout",
     "output_type": "stream",
     "text": [
      "19\n"
     ]
    }
   ],
   "source": [
    "def common_element(lst_9):\n",
    "    return max(set(lst_9), key=lst_9.count)\n",
    "list_0 = [29, 19, 14, 19, 25, 27, 19, 14, 28]\n",
    "print(common_element(list_0))\n"
   ]
  },
  {
   "cell_type": "markdown",
   "id": "f9566eca",
   "metadata": {
    "id": "bea983a3"
   },
   "source": [
    "---\n",
    "\n",
    "### Exercise 84:\n",
    "Write a Python function that takes a list of tuples and returns a list of the tuples sorted by the first element.\n",
    "\n",
    "```python\n",
    "# Exercise 84\n",
    "```"
   ]
  },
  {
   "cell_type": "code",
   "execution_count": 99,
   "id": "c0aceacb",
   "metadata": {},
   "outputs": [
    {
     "name": "stdout",
     "output_type": "stream",
     "text": [
      "[(12, 'y'), (19, 'x'), (21, 'z'), (25, 'w')]\n"
     ]
    }
   ],
   "source": [
    "def sort_element(list_t2):\n",
    "    return sorted(list_t2, key=lambda x: x[0])\n",
    "lst_tup = [(19, 'x'), (12, 'y'), (21, 'z'), (25, 'w')]\n",
    "sorted_= sort_element(lst_tup)\n",
    "print(sorted_)\n"
   ]
  },
  {
   "cell_type": "markdown",
   "id": "004d8b51",
   "metadata": {
    "id": "bea983a3"
   },
   "source": [
    "<!-- --- -->\n",
    "\n",
    "### Exercise 85:\n",
    "Write a Python program that removes duplicates from a list of dictionaries.\n",
    "\n",
    "```python\n",
    "# Exercise 85\n",
    "```"
   ]
  },
  {
   "cell_type": "code",
   "execution_count": 100,
   "id": "8946501b",
   "metadata": {},
   "outputs": [
    {
     "name": "stdout",
     "output_type": "stream",
     "text": [
      "[{'Name': 'Njoki', 'Country': 'Benin'}, {'Name': 'Caren', 'Country': 'Tanzania'}, {'Name': 'Mwangi', 'Country': 'Kenya'}]\n"
     ]
    }
   ],
   "source": [
    "lst_d = [\n",
    "    {\"Name\": 'Njoki', \"Country\": 'Benin'},\n",
    "    {\"Name\": 'Caren', \"Country\": 'Tanzania'},\n",
    "    {\"Name\":'Mwangi', \"Country\": 'Kenya'}]\n",
    "dicts = []\n",
    "seen = set()\n",
    "for d in lst_d:\n",
    "    dict_tu = tuple(sorted(d.items()))\n",
    "    if dict_tu not in seen:\n",
    "        seen.add(dict_tu)\n",
    "        dicts.append(d)\n",
    "\n",
    "print(dicts)\n"
   ]
  },
  {
   "cell_type": "markdown",
   "id": "cc5a1f51",
   "metadata": {
    "id": "bea983a3"
   },
   "source": [
    "---\n",
    "\n",
    "### Exercise 86:\n",
    "Write a Python function that takes a list of numbers and returns the minimum and maximum numbers in the list.\n",
    "\n",
    "```python\n",
    "# Exercise 86\n",
    "```"
   ]
  },
  {
   "cell_type": "code",
   "execution_count": 101,
   "id": "99970e97",
   "metadata": {},
   "outputs": [
    {
     "name": "stdout",
     "output_type": "stream",
     "text": [
      "1\n",
      "9\n"
     ]
    }
   ],
   "source": [
    "def min_max(numb):\n",
    "    if not numb:\n",
    "        return None, None \n",
    "    return min(numb), max(numb)\n",
    "nums = [4, 2, 9, 1, 7]\n",
    "minimum, maximum = min_max(nums)\n",
    "\n",
    "print(minimum)\n",
    "print(maximum)\n"
   ]
  },
  {
   "cell_type": "markdown",
   "id": "ca163abf",
   "metadata": {
    "id": "bea983a3"
   },
   "source": [
    "---\n",
    "\n",
    "### Exercise 87:\n",
    "Write a Python program that creates a list of tuples from two lists.\n",
    "\n",
    "```python\n",
    "# Exercise 87\n",
    "```"
   ]
  },
  {
   "cell_type": "code",
   "execution_count": 102,
   "id": "064a6552",
   "metadata": {},
   "outputs": [
    {
     "name": "stdout",
     "output_type": "stream",
     "text": [
      "[(85, 45), (79, 63), (63, 54)]\n"
     ]
    }
   ],
   "source": [
    "lsta = [85, 79, 63]\n",
    "lstb = [45,63,54]\n",
    "\n",
    "tuple_list = list(zip(lsta, lstb))\n",
    "\n",
    "print(tuple_list)\n"
   ]
  },
  {
   "cell_type": "markdown",
   "id": "7a81b0ca",
   "metadata": {
    "id": "bea983a3"
   },
   "source": [
    "---\n",
    "\n",
    "### Exercise 88:\n",
    "Write a Python function that takes a list of strings and returns a list of the strings in reverse order.\n",
    "\n",
    "```python\n",
    "# Exercise 88\n",
    "```"
   ]
  },
  {
   "cell_type": "code",
   "execution_count": 103,
   "id": "24ec9812",
   "metadata": {},
   "outputs": [
    {
     "name": "stdout",
     "output_type": "stream",
     "text": [
      "['Villa', 'Madam', 'Eve']\n"
     ]
    }
   ],
   "source": [
    "def r_list(lsts):\n",
    "    return lsts[::-1]\n",
    "listss = [\"Eve\", \"Madam\", \"Villa\"]\n",
    "print(r_list(listss))\n"
   ]
  },
  {
   "cell_type": "markdown",
   "id": "0b680023",
   "metadata": {
    "id": "bea983a3"
   },
   "source": [
    "---\n",
    "\n",
    "### Exercise 89:\n",
    "Write a Python function that takes a list of integers and returns the sum of all odd numbers.\n",
    "\n",
    "```python\n",
    "# Exercise 89\n",
    "```"
   ]
  },
  {
   "cell_type": "code",
   "execution_count": 105,
   "id": "523aebae",
   "metadata": {},
   "outputs": [
    {
     "data": {
      "text/plain": [
       "314"
      ]
     },
     "execution_count": 105,
     "metadata": {},
     "output_type": "execute_result"
    }
   ],
   "source": [
    "def sums(x):\n",
    "    total = 0\n",
    "    for n in x:\n",
    "        if n % 2 != 0:\n",
    "            total += n\n",
    "    return total\n",
    "y=[85,87,79,63,76]\n",
    "sums(y)"
   ]
  },
  {
   "cell_type": "markdown",
   "id": "9de35545",
   "metadata": {
    "id": "bea983a3"
   },
   "source": [
    "---\n",
    "\n",
    "### Exercise 90:\n",
    "Write a Python program that checks if a string is a palindrome.\n",
    "\n",
    "```python\n",
    "# Exercise 90\n",
    "```"
   ]
  },
  {
   "cell_type": "code",
   "execution_count": 111,
   "id": "24f3e513",
   "metadata": {},
   "outputs": [
    {
     "name": "stdout",
     "output_type": "stream",
     "text": [
      "\"madam\" is a palindrome\n"
     ]
    }
   ],
   "source": [
    "def is_pal(s):\n",
    "    s = s.replace(\" \", \"\").lower()\n",
    "    return s == s[::-1]\n",
    "text = \"madam\"\n",
    "\n",
    "if is_pal(text):\n",
    "    print(f'\"{text}\" is a palindrome')\n",
    "else:\n",
    "    print(f'\"{text}\" is not a palindrome')\n",
    "text='madam'"
   ]
  },
  {
   "cell_type": "markdown",
   "id": "bbe5e7aa",
   "metadata": {
    "id": "bea983a3"
   },
   "source": [
    "---\n",
    "\n",
    "### Exercise 91:\n",
    "Write a Python program that finds the median of a list of numbers.\n",
    "\n",
    "```python\n",
    "# Exercise 91\n",
    "```"
   ]
  },
  {
   "cell_type": "code",
   "execution_count": 112,
   "id": "f17e5bc8",
   "metadata": {},
   "outputs": [
    {
     "name": "stdout",
     "output_type": "stream",
     "text": [
      "21\n",
      "38.0\n"
     ]
    }
   ],
   "source": [
    "def median(num):\n",
    "    sort_num = sorted(num)\n",
    "    n = len(sort_num)\n",
    "    \n",
    "    if n == 0:\n",
    "        return None\n",
    "    \n",
    "    mid = n // 2\n",
    "    \n",
    "    if n % 2 == 0:\n",
    "        return (sort_num[mid - 1] + sort_num[mid]) / 2\n",
    "    else:\n",
    "        return sort_num[mid]\n",
    "\n",
    "\n",
    "nums1 = [57, 23, 19, 21, 17]\n",
    "nums2 = [43, 51, 33, 22]\n",
    "print(median(nums1)) \n",
    "print(median(nums2)) \n"
   ]
  },
  {
   "cell_type": "markdown",
   "id": "e64541c7",
   "metadata": {
    "id": "bea983a3"
   },
   "source": [
    "---\n",
    "\n",
    "### Exercise 92:\n",
    "Write a Python function that takes a list of dictionaries and returns a dictionary with the total value for each key.\n",
    "\n",
    "```python\n",
    "# Exercise 92\n",
    "```"
   ]
  },
  {
   "cell_type": "code",
   "execution_count": 113,
   "id": "0813a0fa",
   "metadata": {},
   "outputs": [
    {
     "name": "stdout",
     "output_type": "stream",
     "text": [
      "{'a': 13, 'b': 11, 'c': 8}\n"
     ]
    }
   ],
   "source": [
    "def sum_d(d_lst):\n",
    "    total = {}\n",
    "    for d in d_lst:\n",
    "        for key, value in d.items():\n",
    "            if key in total:\n",
    "                total[key] += value\n",
    "            else:\n",
    "                total[key] = value\n",
    "    return total\n",
    "\n",
    "d_lst = [\n",
    "    {'a': 10, 'b': 5},\n",
    "    {'a': 3, 'b': 2, 'c': 7},\n",
    "    {'b': 4, 'c': 1}\n",
    "]\n",
    "\n",
    "print(sum_d(d_lst))\n"
   ]
  },
  {
   "cell_type": "markdown",
   "id": "dbe048e3",
   "metadata": {
    "id": "bea983a3"
   },
   "source": [
    "---\n",
    "\n",
    "### Exercise 93:\n",
    "Write a Python program that calculates the mode of a list of numbers.\n",
    "\n",
    "```python\n",
    "# Exercise 93\n",
    "```"
   ]
  },
  {
   "cell_type": "code",
   "execution_count": 115,
   "id": "2a0cde1f",
   "metadata": {},
   "outputs": [
    {
     "name": "stdout",
     "output_type": "stream",
     "text": [
      "[80, 75, 93, 87, 91]\n"
     ]
    }
   ],
   "source": [
    "from collections import Counter\n",
    "\n",
    "def mode(num):\n",
    "    if not num:\n",
    "        return None \n",
    "    counts = Counter(numbers)\n",
    "    max_count = max(counts.values())\n",
    "    modes = [num for num, freq in counts.items() if freq == max_count]\n",
    "    return modes\n",
    "\n",
    "nums = [11, 7, 7, 23, 14, 25, 9, 18]\n",
    "print(mode(nums))\n"
   ]
  },
  {
   "cell_type": "markdown",
   "id": "0912510b",
   "metadata": {
    "id": "bea983a3"
   },
   "source": [
    "---\n",
    "\n",
    "### Exercise 94:\n",
    "Write a Python function that takes a list of numbers and returns the sum of the squares of all the numbers.\n",
    "\n",
    "```python\n",
    "# Exercise 94\n",
    "```\n",
    "\n",
    "---"
   ]
  },
  {
   "cell_type": "code",
   "execution_count": 117,
   "id": "632c2f8b",
   "metadata": {},
   "outputs": [
    {
     "name": "stdout",
     "output_type": "stream",
     "text": [
      "30\n"
     ]
    }
   ],
   "source": [
    "def sq_sum(x):\n",
    "    return sum(n**2 for n in x)\n",
    "\n",
    "\n",
    "y = [1, 2, 3, 4]\n",
    "print(sq_sum(y))\n"
   ]
  },
  {
   "cell_type": "markdown",
   "id": "5b62355d",
   "metadata": {
    "id": "bea983a3"
   },
   "source": [
    "\n",
    "### Exercise 95:\n",
    "Write a Python program that creates a list of tuples, where each tuple contains a number and its cube for numbers from 1 to 5.\n",
    "\n",
    "```python\n",
    "# Exercise 95\n",
    "```"
   ]
  },
  {
   "cell_type": "code",
   "execution_count": 118,
   "id": "c3cf693d",
   "metadata": {},
   "outputs": [
    {
     "name": "stdout",
     "output_type": "stream",
     "text": [
      "[(1, 1), (2, 8), (3, 27), (4, 64), (5, 125)]\n"
     ]
    }
   ],
   "source": [
    "cubes = [(x, x**3) for x in range(1, 6)]\n",
    "print(cubes)\n"
   ]
  },
  {
   "cell_type": "markdown",
   "id": "e5dffff1",
   "metadata": {
    "id": "bea983a3"
   },
   "source": [
    "---\n",
    "\n",
    "### Exercise 96:\n",
    "Write a Python function that returns a list of all prime numbers up to `n`.\n",
    "\n",
    "```python\n",
    "# Exercise 96\n",
    "```"
   ]
  },
  {
   "cell_type": "code",
   "execution_count": 121,
   "id": "cea6cb37",
   "metadata": {},
   "outputs": [
    {
     "name": "stdout",
     "output_type": "stream",
     "text": [
      "[2, 3, 5, 7, 11, 13, 17, 19]\n"
     ]
    }
   ],
   "source": [
    "def prime_(n):\n",
    "    primes = []\n",
    "    for num in range(2, n + 1):\n",
    "        is_prime = True\n",
    "        for i in range(2, int(num**0.5) + 1):\n",
    "            if num % i == 0:\n",
    "                is_prime = False\n",
    "                break\n",
    "        if is_prime:\n",
    "            primes.append(num)\n",
    "    return primes\n",
    "\n",
    "\n",
    "print(prime_(20))\n"
   ]
  },
  {
   "cell_type": "markdown",
   "id": "c284fde5",
   "metadata": {
    "id": "bea983a3"
   },
   "source": [
    "---\n",
    "\n",
    "### Exercise 97:\n",
    "Write a Python program that finds the common keys between two dictionaries.\n",
    "\n",
    "```python\n",
    "# Exercise 97\n",
    "```"
   ]
  },
  {
   "cell_type": "code",
   "execution_count": 122,
   "id": "b25dbaa5",
   "metadata": {},
   "outputs": [
    {
     "name": "stdout",
     "output_type": "stream",
     "text": [
      "Common keys: {'b', 'c'}\n"
     ]
    }
   ],
   "source": [
    "dict1 = {'a': 1, 'b': 2, 'c': 3}\n",
    "dict2 = {'b': 20, 'c': 30, 'd': 40}\n",
    "common_keys = set(dict1.keys()) & set(dict2.keys())\n",
    "\n",
    "print(\"Common keys:\", common_keys)\n"
   ]
  },
  {
   "cell_type": "markdown",
   "id": "d32516c6",
   "metadata": {
    "id": "bea983a3"
   },
   "source": [
    "---\n",
    "\n",
    "### Exercise 98:\n",
    "Write a Python function that takes a list of strings and returns a list of the strings that contain more than 5 characters.\n",
    "\n",
    "```python\n",
    "# Exercise 98\n",
    "```"
   ]
  },
  {
   "cell_type": "code",
   "execution_count": 123,
   "id": "389718f4",
   "metadata": {},
   "outputs": [
    {
     "name": "stdout",
     "output_type": "stream",
     "text": [
      "['banana', 'cherry', 'pineapple']\n"
     ]
    }
   ],
   "source": [
    "def long_s(q):\n",
    "    return [word for word in q if len(word) > 5]\n",
    "\n",
    "words_l = [\"apple\", \"banana\", \"cherry\", \"kiwi\", \"pineapple\", \"grape\"]\n",
    "print(long_s(words_l))\n"
   ]
  },
  {
   "cell_type": "markdown",
   "id": "46781d2e",
   "metadata": {
    "id": "bea983a3"
   },
   "source": [
    "\n",
    "\n",
    "---\n",
    "\n",
    "### Exercise 99:\n",
    "Write a Python program that converts a list of strings into a list of tuples, where each tuple contains the string and its length.\n",
    "\n",
    "```python\n",
    "# Exercise 99\n",
    "```"
   ]
  },
  {
   "cell_type": "code",
   "execution_count": 124,
   "id": "33211115",
   "metadata": {},
   "outputs": [
    {
     "name": "stdout",
     "output_type": "stream",
     "text": [
      "[('apple', 5), ('banana', 6), ('cherry', 6), ('kiwi', 4)]\n"
     ]
    }
   ],
   "source": [
    "w = [\"apple\", \"banana\", \"cherry\", \"kiwi\"]\n",
    "r = [(word, len(word)) for word in w]\n",
    "\n",
    "print(r)\n"
   ]
  },
  {
   "cell_type": "markdown",
   "id": "bea983a3",
   "metadata": {
    "id": "bea983a3"
   },
   "source": [
    "---\n",
    "### Exercise 100:\n",
    "Write a Python function that takes a list of dictionaries and returns a new dictionary by summing the values of each key across all dictionaries.\n",
    "\n",
    "```python\n",
    "# Exercise 100\n",
    "```\n",
    "\n",
    "---"
   ]
  },
  {
   "cell_type": "code",
   "execution_count": 128,
   "id": "04c4d475",
   "metadata": {},
   "outputs": [
    {
     "name": "stdout",
     "output_type": "stream",
     "text": [
      "{'ground nut': 165, 'coconut': 220, 'peanut': 125}\n"
     ]
    }
   ],
   "source": [
    "def sum_d(d_list):\n",
    "    result = {}\n",
    "    for d in d_list:\n",
    "        for key, value in d.items():\n",
    "            result[key] = result.get(key, 0) + value\n",
    "    return result\n",
    "nuts = [\n",
    "    {'ground nut': 90, 'coconut': 70},\n",
    "    {'ground nut': 75, 'peanut': 65, 'coconut': 55},\n",
    "    {'peanut': 60, 'coconut': 95}\n",
    "]\n",
    "\n",
    "print(sum_d(nuts))\n"
   ]
  },
  {
   "cell_type": "code",
   "execution_count": null,
   "id": "48400f8f",
   "metadata": {},
   "outputs": [],
   "source": []
  }
 ],
 "metadata": {
  "colab": {
   "provenance": []
  },
  "kernelspec": {
   "display_name": "Python 3 (ipykernel)",
   "language": "python",
   "name": "python3"
  },
  "language_info": {
   "codemirror_mode": {
    "name": "ipython",
    "version": 3
   },
   "file_extension": ".py",
   "mimetype": "text/x-python",
   "name": "python",
   "nbconvert_exporter": "python",
   "pygments_lexer": "ipython3",
   "version": "3.12.3"
  }
 },
 "nbformat": 4,
 "nbformat_minor": 5
}
