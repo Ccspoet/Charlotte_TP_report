{
 "cells": [
  {
   "cell_type": "markdown",
   "id": "d68c1dee",
   "metadata": {
    "id": "d68c1dee"
   },
   "source": [
    "# Practical_4: Flow control"
   ]
  },
  {
   "cell_type": "markdown",
   "id": "e7db7d8d",
   "metadata": {
    "id": "bea983a3"
   },
   "source": [
    "---\n",
    "\n",
    "### Exercise 1:\n",
    "Write a Python program that checks if a number is positive or negative.\n",
    "\n",
    "```python\n",
    "# Exercise 1\n",
    "```"
   ]
  },
  {
   "cell_type": "code",
   "execution_count": 1,
   "id": "c0817361",
   "metadata": {},
   "outputs": [
    {
     "name": "stdout",
     "output_type": "stream",
     "text": [
      "Enter a number: 8\n",
      "The number is positive.\n"
     ]
    }
   ],
   "source": [
    "num = float(input(\"Enter a number: \"))\n",
    "\n",
    "if num > 0:\n",
    "    print(\"The number is positive.\")\n",
    "elif num < 0:\n",
    "    print(\"The number is negative.\")\n",
    "else:\n",
    "    print(\"The number is zero.\")\n"
   ]
  },
  {
   "cell_type": "markdown",
   "id": "c4123883",
   "metadata": {
    "id": "bea983a3"
   },
   "source": [
    "---\n",
    "\n",
    "### Exercise 2:\n",
    "Write a Python function that checks if a string starts with a vowel.\n",
    "\n",
    "```python\n",
    "# Exercise 2\n",
    "```"
   ]
  },
  {
   "cell_type": "code",
   "execution_count": 2,
   "id": "12abb1e8",
   "metadata": {},
   "outputs": [
    {
     "name": "stdout",
     "output_type": "stream",
     "text": [
      "True\n",
      "False\n"
     ]
    }
   ],
   "source": [
    "def check_vowel(x):\n",
    "    vowels = \"aeiouAEIOU\"\n",
    "    if x and x[0] in vowels:\n",
    "        return True\n",
    "    else:\n",
    "        return False\n",
    "    \n",
    "print(check_vowel(\"apprentiship\"))\n",
    "print(check_vowel('college'))"
   ]
  },
  {
   "cell_type": "markdown",
   "id": "91cf9efa",
   "metadata": {
    "id": "bea983a3"
   },
   "source": [
    "---\n",
    "\n",
    "### Exercise 3:\n",
    "Write a Python program that takes a list of integers and prints \"Even\" for each even number and \"Odd\" for each odd number.\n",
    "\n",
    "```python\n",
    "# Exercise 3\n",
    "```"
   ]
  },
  {
   "cell_type": "code",
   "execution_count": 3,
   "id": "bc91fc16",
   "metadata": {},
   "outputs": [
    {
     "name": "stdout",
     "output_type": "stream",
     "text": [
      "odd\n",
      "odd\n",
      "even\n",
      "odd\n",
      "even\n",
      "even\n"
     ]
    }
   ],
   "source": [
    "lis_int=[41,33,54,67,98,22]\n",
    "for i in lis_int:\n",
    "    if i%2!=0:\n",
    "        print(\"odd\")\n",
    "    else:\n",
    "        print(\"even\")\n"
   ]
  },
  {
   "cell_type": "markdown",
   "id": "405f814e",
   "metadata": {
    "id": "bea983a3"
   },
   "source": [
    "---\n",
    "\n",
    "### Exercise 4:\n",
    "Write a Python program that checks if a given year is a leap year.\n",
    "\n",
    "```python\n",
    "# Exercise 4\n",
    "```"
   ]
  },
  {
   "cell_type": "code",
   "execution_count": 4,
   "id": "8014bba7",
   "metadata": {},
   "outputs": [
    {
     "name": "stdout",
     "output_type": "stream",
     "text": [
      "Enter a year: 2926\n",
      "2926 is not a leap year.\n"
     ]
    }
   ],
   "source": [
    "year = int(input(\"Enter a year: \"))\n",
    "\n",
    "if (year % 4 == 0 and year % 100 != 0) or (year % 400 == 0):\n",
    "    print(f\"{year} is a leap year.\")\n",
    "else:\n",
    "    print(f\"{year} is not a leap year.\")\n",
    " "
   ]
  },
  {
   "cell_type": "markdown",
   "id": "91b0aa62",
   "metadata": {
    "id": "bea983a3"
   },
   "source": [
    "---\n",
    "\n",
    "### Exercise 5:\n",
    "Write a Python function that checks if a number is divisible by both 3 and 5.\n",
    "\n",
    "```python\n",
    "# Exercise 5\n",
    "```"
   ]
  },
  {
   "cell_type": "code",
   "execution_count": 5,
   "id": "bcd06b95",
   "metadata": {},
   "outputs": [
    {
     "name": "stdout",
     "output_type": "stream",
     "text": [
      "enter a number: 30\n",
      "30 is divisible by 3 and 5\n"
     ]
    }
   ],
   "source": [
    "numb=int(input(\"enter a number: \"))\n",
    "if (numb%3==0 and numb%5==0):\n",
    "    print(f\"{numb} is divisible by 3 and 5\")\n",
    "else:\n",
    "    print(f\"{numb}Is not divisible by 3 qnd 5\")"
   ]
  },
  {
   "cell_type": "markdown",
   "id": "34928ef9",
   "metadata": {
    "id": "bea983a3"
   },
   "source": [
    "---\n",
    "\n",
    "### Exercise 6:\n",
    "Write a Python program that prints \"Hot\" if the temperature is above 30, \"Warm\" if it is between 15 and 30, and \"Cold\" if it is below 15.\n",
    "\n",
    "```python\n",
    "# Exercise 6\n",
    "```"
   ]
  },
  {
   "cell_type": "code",
   "execution_count": 6,
   "id": "3dc982e8",
   "metadata": {},
   "outputs": [
    {
     "name": "stdout",
     "output_type": "stream",
     "text": [
      "enter the the temp:87\n",
      "hot\n"
     ]
    }
   ],
   "source": [
    "temp=float(input('enter the the temp:'))\n",
    "if temp>30:\n",
    "    print('hot')\n",
    "elif temp<15:\n",
    "    print('cold')\n",
    "else:\n",
    "    print('warm')"
   ]
  },
  {
   "cell_type": "markdown",
   "id": "c752cea5",
   "metadata": {
    "id": "bea983a3"
   },
   "source": [
    "---\n",
    "\n",
    "### Exercise 7:\n",
    "Write a Python program that checks if a string contains the letter 'a'.\n",
    "\n",
    "```python\n",
    "# Exercise 7\n",
    "```"
   ]
  },
  {
   "cell_type": "code",
   "execution_count": 7,
   "id": "c52123ae",
   "metadata": {},
   "outputs": [
    {
     "name": "stdout",
     "output_type": "stream",
     "text": [
      "enter a letter:cake\n",
      "cake contains \"a\"\n"
     ]
    }
   ],
   "source": [
    "letter=input('enter a letter:')\n",
    "if \"a\" in letter:\n",
    "        print(f'{letter} contains \"a\"')\n",
    "else:\n",
    "        print(f'{letter} does not contain \"a\"')"
   ]
  },
  {
   "cell_type": "markdown",
   "id": "20b06556",
   "metadata": {
    "id": "bea983a3"
   },
   "source": [
    "\n",
    "\n",
    "---\n",
    "\n",
    "### Exercise 8:\n",
    "Write a Python function that checks if two numbers are equal, or which one is larger.\n",
    "\n",
    "```python\n",
    "# Exercise 8\n",
    "```"
   ]
  },
  {
   "cell_type": "code",
   "execution_count": 8,
   "id": "4a21ef79",
   "metadata": {},
   "outputs": [
    {
     "data": {
      "text/plain": [
       "'18 is larger than 12.'"
      ]
     },
     "execution_count": 8,
     "metadata": {},
     "output_type": "execute_result"
    }
   ],
   "source": [
    "def compare(x, y):\n",
    "    if x == y:\n",
    "        return \"Both numbers are equal.\"\n",
    "    elif x > y:\n",
    "        return f\"{x} is larger than {y}.\"\n",
    "    else:\n",
    "        return f\"{y} is larger than {x}.\"\n",
    "\n",
    "compare(12,18)\n"
   ]
  },
  {
   "cell_type": "markdown",
   "id": "23a5cbf1",
   "metadata": {
    "id": "bea983a3"
   },
   "source": [
    "---\n",
    "\n",
    "### Exercise 9:\n",
    "Write a Python program that checks if a list is empty.\n",
    "\n",
    "```python\n",
    "# Exercise 9\n",
    "```"
   ]
  },
  {
   "cell_type": "code",
   "execution_count": 9,
   "id": "ad663e5d",
   "metadata": {},
   "outputs": [
    {
     "name": "stdout",
     "output_type": "stream",
     "text": [
      "Enter elements of the list: \n",
      "The list is empty.\n"
     ]
    }
   ],
   "source": [
    "my_list = input(\"Enter elements of the list: \").split()\n",
    "\n",
    "if len(my_list) == 0:\n",
    "    print(\"The list is empty.\")\n",
    "else:\n",
    "    print(\"The list is not empty\")\n"
   ]
  },
  {
   "cell_type": "markdown",
   "id": "5d7ea6ba",
   "metadata": {
    "id": "bea983a3"
   },
   "source": [
    "\n",
    "---\n",
    "\n",
    "### Exercise 10:\n",
    "Write a Python function that takes two strings and checks if they are anagrams.\n",
    "\n",
    "```python\n",
    "# Exercise 10\n",
    "```"
   ]
  },
  {
   "cell_type": "code",
   "execution_count": 10,
   "id": "66f3756b",
   "metadata": {},
   "outputs": [
    {
     "name": "stdout",
     "output_type": "stream",
     "text": [
      "\"silent\" and \"listen\" are anagrams.\n"
     ]
    }
   ],
   "source": [
    "def anagrams(m, n):\n",
    "    m = m.replace(\" \", \"\").lower()\n",
    "    n = n.replace(\" \", \"\").lower()\n",
    "    \n",
    "    return sorted(m) == sorted(n)\n",
    "(m,n)=\"silent\",\"listen\"\n",
    "\n",
    "if anagrams(m, n):\n",
    "    print(f'\"{m}\" and \"{n}\" are anagrams.')\n",
    "else:\n",
    "    print(f'\"{m}\" and \"{n}\" are not anagrams.')"
   ]
  },
  {
   "cell_type": "markdown",
   "id": "2199562a",
   "metadata": {
    "id": "bea983a3"
   },
   "source": [
    "---\n",
    "\n",
    "### Exercise 11:\n",
    "Write a Python program that checks if a number is prime.\n",
    "\n",
    "```python\n",
    "# Exercise 11\n",
    "```"
   ]
  },
  {
   "cell_type": "code",
   "execution_count": 12,
   "id": "79e83459",
   "metadata": {},
   "outputs": [
    {
     "name": "stdout",
     "output_type": "stream",
     "text": [
      "Enter a number: 2\n",
      "2 is not a prime number.\n"
     ]
    }
   ],
   "source": [
    "numbr = int(input(\"Enter a number: \"))\n",
    "\n",
    "if numbr <= 1:\n",
    "    print(f\"{num} is not a prime number.\")\n",
    "else:\n",
    "    is_prime = True\n",
    "    for i in range(2, int(numb**0.5) + 1):\n",
    "        if numbr % i == 0:\n",
    "            is_prime = False\n",
    "            break\n",
    "    if is_prime:\n",
    "        print(f\"{numbr} is a prime number.\")\n",
    "    else:\n",
    "        print(f\"{numbr} is not a prime number.\")\n"
   ]
  },
  {
   "cell_type": "markdown",
   "id": "7f12a0ce",
   "metadata": {
    "id": "bea983a3"
   },
   "source": [
    "---\n",
    "\n",
    "### Exercise 12:\n",
    "Write a Python program that checks if a list of numbers is sorted in ascending order.\n",
    "\n",
    "```python\n",
    "# Exercise 12\n",
    "```"
   ]
  },
  {
   "cell_type": "code",
   "execution_count": 13,
   "id": "13419fde",
   "metadata": {},
   "outputs": [
    {
     "name": "stdout",
     "output_type": "stream",
     "text": [
      "Enter numbers : 5 8 9 2\n",
      "The list is not sorted in ascending order.\n"
     ]
    }
   ],
   "source": [
    "numbers = input(\"Enter numbers : \").split()\n",
    "numbers = [int(num) for num in numbers]\n",
    "is_sorted = True\n",
    "for i in range(len(numbers) - 1):\n",
    "    if numbers[i] > numbers[i + 1]:\n",
    "        is_sorted = False\n",
    "        break\n",
    "\n",
    "if is_sorted:\n",
    "    print(\"The list is sorted in ascending order.\")\n",
    "else:\n",
    "    print(\"The list is not sorted in ascending order.\")\n",
    "\n"
   ]
  },
  {
   "cell_type": "markdown",
   "id": "dfcedfa3",
   "metadata": {
    "id": "bea983a3"
   },
   "source": [
    "---\n",
    "\n",
    "### Exercise 13:\n",
    "Write a Python function that takes a character and checks if it is a digit.\n",
    "\n",
    "```python\n",
    "# Exercise 13\n",
    "```"
   ]
  },
  {
   "cell_type": "code",
   "execution_count": 14,
   "id": "cf7d7e10",
   "metadata": {},
   "outputs": [
    {
     "name": "stdout",
     "output_type": "stream",
     "text": [
      "Enter a single character: 9\n",
      "\"9\" is a digit.\n"
     ]
    }
   ],
   "source": [
    "def digit(char):\n",
    "    return char.isdigit() \n",
    "char = input(\"Enter a single character: \")\n",
    "\n",
    "if digit(char):\n",
    "    print(f'\"{char}\" is a digit.')\n",
    "else:\n",
    "    print(f'\"{char}\" is not a digit.')\n"
   ]
  },
  {
   "cell_type": "markdown",
   "id": "e92cea88",
   "metadata": {
    "id": "bea983a3"
   },
   "source": [
    "---\n",
    "\n",
    "### Exercise 14:\n",
    "Write a Python function that checks if a string contains only uppercase letters.\n",
    "\n",
    "```python\n",
    "# Exercise 14\n",
    "```"
   ]
  },
  {
   "cell_type": "code",
   "execution_count": 15,
   "id": "914f15e1",
   "metadata": {},
   "outputs": [
    {
     "name": "stdout",
     "output_type": "stream",
     "text": [
      "Enter a string: Yoga\n",
      "\"Yoga\" does not contain only uppercase letters.\n"
     ]
    }
   ],
   "source": [
    "def uppercase(text):\n",
    "    return text.isupper() \n",
    "text = input(\"Enter a string: \")\n",
    "\n",
    "if uppercase(text):\n",
    "    print(f'\"{text}\" contains only uppercase letters.')\n",
    "else:\n",
    "    print(f'\"{text}\" does not contain only uppercase letters.')\n"
   ]
  },
  {
   "cell_type": "markdown",
   "id": "a7a3afe1",
   "metadata": {
    "id": "bea983a3"
   },
   "source": [
    "---\n",
    "\n",
    "### Exercise 15:\n",
    "Write a Python program that checks if a number is a multiple of 10.\n",
    "\n",
    "```python\n",
    "# Exercise 15\n",
    "```"
   ]
  },
  {
   "cell_type": "code",
   "execution_count": 16,
   "id": "39d43ff9",
   "metadata": {},
   "outputs": [
    {
     "name": "stdout",
     "output_type": "stream",
     "text": [
      "Enter a number: 90\n",
      "90 is a multiple of 10.\n"
     ]
    }
   ],
   "source": [
    "numbe = int(input(\"Enter a number: \"))\n",
    "\n",
    "if numbe % 10 == 0:\n",
    "    print(f\"{numbe} is a multiple of 10.\")\n",
    "else:\n",
    "    print(f\"{numbe} is not a multiple of 10.\")\n"
   ]
  },
  {
   "cell_type": "markdown",
   "id": "d112c420",
   "metadata": {
    "id": "bea983a3"
   },
   "source": [
    "---\n",
    "\n",
    "### Exercise 16:\n",
    "Write a Python function that checks if a list contains any duplicates.\n",
    "\n",
    "```python\n",
    "# Exercise 16\n",
    "```"
   ]
  },
  {
   "cell_type": "code",
   "execution_count": 17,
   "id": "89c38df9",
   "metadata": {},
   "outputs": [
    {
     "name": "stdout",
     "output_type": "stream",
     "text": [
      "Enter numbers: 11 1 88 9 87\n",
      "The list does not contain duplicates.\n"
     ]
    }
   ],
   "source": [
    "def dupli(lst):\n",
    "    return len(lst) != len(set(lst))\n",
    "\n",
    "numbers = input(\"Enter numbers: \").split()\n",
    "numbers = [int(num) for num in numbers]\n",
    "\n",
    "if dupli(numbers):\n",
    "    print(\"The list contains duplicates.\")\n",
    "else:\n",
    "    print(\"The list does not contain duplicates.\")\n"
   ]
  },
  {
   "cell_type": "markdown",
   "id": "653098f5",
   "metadata": {
    "id": "bea983a3"
   },
   "source": [
    "---\n",
    "\n",
    "### Exercise 17:\n",
    "Write a Python program that prints \"Teenager\" if the age is between 13 and 19, otherwise it prints \"Not a teenager.\"\n",
    "\n",
    "```python\n",
    "# Exercise 17\n",
    "```"
   ]
  },
  {
   "cell_type": "code",
   "execution_count": 18,
   "id": "d96f0bac",
   "metadata": {},
   "outputs": [
    {
     "name": "stdout",
     "output_type": "stream",
     "text": [
      "enter your age:25\n",
      "Not a teenager.\n"
     ]
    }
   ],
   "source": [
    "age=int(input('enter your age:'))\n",
    "if age in range(13,19):\n",
    "    print(\"Teenager\")\n",
    "else:\n",
    "    print(\"Not a teenager.\")"
   ]
  },
  {
   "cell_type": "markdown",
   "id": "18ccae17",
   "metadata": {
    "id": "bea983a3"
   },
   "source": [
    "---\n",
    "\n",
    "### Exercise 18:\n",
    "Write a Python function that checks if a list contains an element greater than 100.\n",
    "\n",
    "```python\n",
    "# Exercise 18\n",
    "```"
   ]
  },
  {
   "cell_type": "code",
   "execution_count": 20,
   "id": "6c6affd1",
   "metadata": {},
   "outputs": [
    {
     "name": "stdout",
     "output_type": "stream",
     "text": [
      "greater than 100\n"
     ]
    }
   ],
   "source": [
    "def func(lst):\n",
    "    for l in lst:\n",
    "        if l > 100:\n",
    "            return 'greater than 100'\n",
    "    return 'less than or equal to 100'\n",
    "\n",
    "lst_1 = [23, 120, 23]\n",
    "result = func(lst_1)\n",
    "print(result)\n"
   ]
  },
  {
   "cell_type": "markdown",
   "id": "bd516ee9",
   "metadata": {
    "id": "bea983a3"
   },
   "source": [
    "---\n",
    "\n",
    "### Exercise 19:\n",
    "Write a Python program that checks if a number is even or odd.\n",
    "\n",
    "```python\n",
    "# Exercise 19\n",
    "```"
   ]
  },
  {
   "cell_type": "code",
   "execution_count": 19,
   "id": "092a153f",
   "metadata": {},
   "outputs": [
    {
     "name": "stdout",
     "output_type": "stream",
     "text": [
      "Enter a number: 58\n",
      "58 is even.\n"
     ]
    }
   ],
   "source": [
    "numb_ = int(input(\"Enter a number: \"))\n",
    "\n",
    "if numb_ % 2 == 0:\n",
    "    print(f\"{numb_} is even.\")\n",
    "else:\n",
    "    print(f\"{numb_} is odd.\")\n"
   ]
  },
  {
   "cell_type": "markdown",
   "id": "96190e6e",
   "metadata": {
    "id": "bea983a3"
   },
   "source": [
    "---\n",
    "\n",
    "### Exercise 20:\n",
    "Write a Python function that checks if a string ends with a punctuation mark.\n",
    "\n",
    "```python\n",
    "# Exercise 20\n",
    "```"
   ]
  },
  {
   "cell_type": "code",
   "execution_count": 25,
   "id": "f3b2f422",
   "metadata": {},
   "outputs": [
    {
     "name": "stdout",
     "output_type": "stream",
     "text": [
      "Enter a sentence: good\n",
      "The string does not end with a punctuation mark.\n"
     ]
    }
   ],
   "source": [
    "def func_p(x):\n",
    "    punctuation_marks = \".!?,\" \n",
    "    return text.endswith(tuple(punctuation_marks))\n",
    "\n",
    "x = input(\"Enter a sentence: \")\n",
    "\n",
    "if func_p(x):\n",
    "    print(\"The string ends with a punctuation mark.\")\n",
    "else:\n",
    "    print(\"The string does not end with a punctuation mark.\")\n"
   ]
  },
  {
   "cell_type": "markdown",
   "id": "be3bec53",
   "metadata": {
    "id": "bea983a3"
   },
   "source": [
    "---\n",
    "\n",
    "### Exercise 21:\n",
    "Write a Python program that prints \"Yes\" if the number is between 1 and 100, otherwise it prints \"No.\"\n",
    "\n",
    "```python\n",
    "# Exercise 21\n",
    "```"
   ]
  },
  {
   "cell_type": "code",
   "execution_count": 26,
   "id": "e892d4d3",
   "metadata": {},
   "outputs": [
    {
     "name": "stdout",
     "output_type": "stream",
     "text": [
      "enter a number:9\n",
      "no\n"
     ]
    }
   ],
   "source": [
    "enter=input('enter a number:')\n",
    "if enter in range(1,100):\n",
    "    print('yes')\n",
    "else:\n",
    "    print('no')"
   ]
  },
  {
   "cell_type": "markdown",
   "id": "ed119479",
   "metadata": {
    "id": "bea983a3"
   },
   "source": [
    "---\n",
    "\n",
    "### Exercise 22:\n",
    "Write a Python program that checks if two strings have the same length.\n",
    "\n",
    "```python\n",
    "# Exercise 22\n",
    "```"
   ]
  },
  {
   "cell_type": "code",
   "execution_count": 27,
   "id": "f621d1ae",
   "metadata": {},
   "outputs": [
    {
     "name": "stdout",
     "output_type": "stream",
     "text": [
      "Enter the first str: page\n",
      "Enter the second str: said\n",
      "The two strings have the same length.\n"
     ]
    }
   ],
   "source": [
    "p = input(\"Enter the first str: \")\n",
    "q= input(\"Enter the second str: \")\n",
    "\n",
    "if len(p) == len(q):\n",
    "    print(\"The two strings have the same length.\")\n",
    "else:\n",
    "    print(\"The two strings do not have the same length.\")\n",
    "\n"
   ]
  },
  {
   "cell_type": "markdown",
   "id": "55dc0569",
   "metadata": {
    "id": "bea983a3"
   },
   "source": [
    "---\n",
    "\n",
    "### Exercise 23:\n",
    "Write a Python function that checks if a number is greater than its reverse.\n",
    "\n",
    "```python\n",
    "# Exercise 23\n",
    "```"
   ]
  },
  {
   "cell_type": "code",
   "execution_count": 28,
   "id": "f5ac5d00",
   "metadata": {},
   "outputs": [
    {
     "name": "stdout",
     "output_type": "stream",
     "text": [
      "Enter a number: 98\n",
      "98 is greater than its reverse.\n"
     ]
    }
   ],
   "source": [
    "def g_reverse(num_0):\n",
    "    reverse_num = int(str(num_0)[::-1])\n",
    "    \n",
    "    if num_0 > reverse_num:\n",
    "        return True\n",
    "    else:\n",
    "        return False\n",
    "\n",
    "num_0 = int(input(\"Enter a number: \"))\n",
    "\n",
    "if g_reverse(num_0):\n",
    "    print(f\"{num_0} is greater than its reverse.\")\n",
    "else:\n",
    "    print(f\"{num_0} is not greater than its reverse.\")\n"
   ]
  },
  {
   "cell_type": "markdown",
   "id": "eb0c8139",
   "metadata": {
    "id": "bea983a3"
   },
   "source": [
    "---\n",
    "\n",
    "### Exercise 24:\n",
    "Write a Python program that checks if a password contains both letters and numbers.\n",
    "\n",
    "```python\n",
    "# Exercise 24\n",
    "```"
   ]
  },
  {
   "cell_type": "code",
   "execution_count": 29,
   "id": "9ee997d6",
   "metadata": {},
   "outputs": [
    {
     "name": "stdout",
     "output_type": "stream",
     "text": [
      "Enter a password: qwerty123\n",
      "Password contains both letters and numbers.\n"
     ]
    }
   ],
   "source": [
    "pas = input(\"Enter a password: \")\n",
    "\n",
    "letter = False\n",
    "digit = False\n",
    "\n",
    "for char in pas:\n",
    "    if char.isalpha():\n",
    "        letter = True\n",
    "    elif char.isdigit():\n",
    "        digit = True\n",
    "\n",
    "if letter and digit:\n",
    "    print(\"Password contains both letters and numbers.\")\n",
    "else:\n",
    "    print(\"Password does not contain both letters and numbers.\")\n"
   ]
  },
  {
   "cell_type": "markdown",
   "id": "d46279b3",
   "metadata": {
    "id": "bea983a3"
   },
   "source": [
    "---\n",
    "\n",
    "### Exercise 25:\n",
    "Write a Python program that checks if a number is between two given numbers.\n",
    "\n",
    "```python\n",
    "# Exercise 25\n",
    "```"
   ]
  },
  {
   "cell_type": "code",
   "execution_count": 30,
   "id": "da51875f",
   "metadata": {},
   "outputs": [
    {
     "name": "stdout",
     "output_type": "stream",
     "text": [
      "Enter a number: 3\n",
      "Enter the lower limit: 1\n",
      "Enter the upper limit: 9\n",
      "3.0 is between 1.0 and 9.0.\n"
     ]
    }
   ],
   "source": [
    "n_1 = float(input(\"Enter a number: \"))\n",
    "lower = float(input(\"Enter the lower limit: \"))\n",
    "upper = float(input(\"Enter the upper limit: \"))\n",
    "\n",
    "if lower < n_1 < upper:\n",
    "    print(f\"{n_1} is between {lower} and {upper}.\")\n",
    "else:\n",
    "    print(f\"{n_1} is NOT between {lower} and {upper}.\")\n"
   ]
  },
  {
   "cell_type": "markdown",
   "id": "5921e86b",
   "metadata": {
    "id": "bea983a3"
   },
   "source": [
    "---\n",
    "\n",
    "### Exercise 26:\n",
    "Write a Python function that checks if all characters in a string are unique.\n",
    "\n",
    "```python\n",
    "# Exercise 26\n",
    "```"
   ]
  },
  {
   "cell_type": "code",
   "execution_count": 31,
   "id": "d2788450",
   "metadata": {},
   "outputs": [
    {
     "name": "stdout",
     "output_type": "stream",
     "text": [
      "Enter a string: Egypt\n",
      "All characters in the string are unique.\n"
     ]
    }
   ],
   "source": [
    "def unique(t_7):\n",
    "    return len(t_7) == len(set(t_7))\n",
    "\n",
    "t_7= input(\"Enter a string: \")\n",
    "\n",
    "if unique(t_7):\n",
    "    print(\"All characters in the string are unique.\")\n",
    "else:\n",
    "    print(\"The string contains duplicate characters.\")\n"
   ]
  },
  {
   "cell_type": "markdown",
   "id": "68c82eac",
   "metadata": {
    "id": "bea983a3"
   },
   "source": [
    "---\n",
    "\n",
    "### Exercise 27:\n",
    "Write a Python program that checks if a number is a perfect square.\n",
    "\n",
    "```python\n",
    "# Exercise 27\n",
    "```"
   ]
  },
  {
   "cell_type": "code",
   "execution_count": 32,
   "id": "04045788",
   "metadata": {},
   "outputs": [
    {
     "name": "stdout",
     "output_type": "stream",
     "text": [
      "Enter a number: 9\n",
      "9 is a perfect square.\n"
     ]
    }
   ],
   "source": [
    "import math\n",
    "\n",
    "n_2 = int(input(\"Enter a number: \"))\n",
    "\n",
    "sq_num = math.isqrt(n_2) \n",
    "\n",
    "if sq_num * sq_num == n_2:\n",
    "    print(f\"{n_2} is a perfect square.\")\n",
    "else:\n",
    "    print(f\"{n_2} is not a perfect square.\")\n"
   ]
  },
  {
   "cell_type": "markdown",
   "id": "564b598c",
   "metadata": {
    "id": "bea983a3"
   },
   "source": [
    "---\n",
    "\n",
    "### Exercise 28:\n",
    "Write a Python function that checks if a word is a palindrome.\n",
    "\n",
    "```python\n",
    "# Exercise 28\n",
    "```"
   ]
  },
  {
   "cell_type": "code",
   "execution_count": 33,
   "id": "61a50746",
   "metadata": {},
   "outputs": [
    {
     "name": "stdout",
     "output_type": "stream",
     "text": [
      "Enter a word: madam\n",
      "\"madam\" is a palindrome.\n"
     ]
    }
   ],
   "source": [
    "def pal(w_7):\n",
    "    w_7 = w_7.lower() \n",
    "    return w_7 == w_7[::-1]\n",
    "w_7 = input(\"Enter a word: \")\n",
    "\n",
    "if pal(w_7):\n",
    "    print(f'\"{w_7}\" is a palindrome.')\n",
    "else:\n",
    "    print(f'\"{w_7}\" is not a palindrome.')\n"
   ]
  },
  {
   "cell_type": "markdown",
   "id": "f2f045c6",
   "metadata": {
    "id": "bea983a3"
   },
   "source": [
    "---\n",
    "\n",
    "### Exercise 29:\n",
    "Write a Python program that prints \"Fizz\" if a number is divisible by 3, \"Buzz\" if it is divisible by 5, and \"FizzBuzz\" if divisible by both.\n",
    "\n",
    "```python\n",
    "# Exercise 29\n",
    "```"
   ]
  },
  {
   "cell_type": "code",
   "execution_count": 35,
   "id": "01955d42",
   "metadata": {},
   "outputs": [
    {
     "name": "stdout",
     "output_type": "stream",
     "text": [
      "Enter a number: 20\n",
      "Buzz\n"
     ]
    }
   ],
   "source": [
    "n_3 = int(input(\"Enter a number: \"))\n",
    "\n",
    "if n_3 % 3 == 0 and n_3 % 5 == 0:\n",
    "    print(\"FizzBuzz\")\n",
    "elif n_3 % 3 == 0:\n",
    "    print(\"Fizz\")\n",
    "elif n_3 % 5 == 0:\n",
    "    print(\"Buzz\")\n",
    "else:\n",
    "    print(n_3)\n"
   ]
  },
  {
   "cell_type": "markdown",
   "id": "5a40dcd5",
   "metadata": {
    "id": "bea983a3"
   },
   "source": [
    "---\n",
    "\n",
    "### Exercise 30:\n",
    "Write a Python program that checks if the sum of the digits of a number is even.\n",
    "\n",
    "```python\n",
    "# Exercise 30\n",
    "```"
   ]
  },
  {
   "cell_type": "code",
   "execution_count": 36,
   "id": "022c4c34",
   "metadata": {},
   "outputs": [
    {
     "name": "stdout",
     "output_type": "stream",
     "text": [
      "Enter a number: 89\n",
      "The sum of the digits (17) is odd.\n"
     ]
    }
   ],
   "source": [
    "n_4 = input(\"Enter a number: \")\n",
    "\n",
    "d_sum = sum(int(digit) for digit in n_4 if digit.isdigit())\n",
    "\n",
    "if d_sum % 2 == 0:\n",
    "    print(f\"The sum of the digits ({d_sum}) is even.\")\n",
    "else:\n",
    "    print(f\"The sum of the digits ({d_sum}) is odd.\")\n"
   ]
  },
  {
   "cell_type": "markdown",
   "id": "abfa5101",
   "metadata": {
    "id": "bea983a3"
   },
   "source": [
    "---\n",
    "\n",
    "### Exercise 31:\n",
    "Write a Python program that checks if a string is a valid email address.\n",
    "\n",
    "```python\n",
    "# Exercise 31\n",
    "```"
   ]
  },
  {
   "cell_type": "code",
   "execution_count": 37,
   "id": "4c44c0e5",
   "metadata": {},
   "outputs": [
    {
     "name": "stdout",
     "output_type": "stream",
     "text": [
      "Enter an email address: itscharlote@gmail.com\n",
      "\"itscharlote@gmail.com\" is a valid email address.\n"
     ]
    }
   ],
   "source": [
    "import re\n",
    "\n",
    "email = input(\"Enter an email address: \")\n",
    "\n",
    "p= r'^[\\w\\.-]+@[\\w\\.-]+\\.\\w+$'\n",
    "\n",
    "if re.match(p, email):\n",
    "    print(f'\"{email}\" is a valid email address.')\n",
    "else:\n",
    "    print(f'\"{email}\" is not a valid email address.')\n"
   ]
  },
  {
   "cell_type": "markdown",
   "id": "22cba0f4",
   "metadata": {
    "id": "bea983a3"
   },
   "source": [
    "---\n",
    "\n",
    "### Exercise 32:\n",
    "Write a Python function that checks if a number is within 10 of 100 or 200.\n",
    "\n",
    "```python\n",
    "# Exercise 32\n",
    "```"
   ]
  },
  {
   "cell_type": "code",
   "execution_count": 38,
   "id": "20b98274",
   "metadata": {},
   "outputs": [
    {
     "name": "stdout",
     "output_type": "stream",
     "text": [
      "Enter a number: 90\n",
      "90 is NOT within 10 of 100 or 200.\n"
     ]
    }
   ],
   "source": [
    "def within(n_5):\n",
    "    return abs(100 - num) <= 10 or abs(200 - num) <= 10\n",
    "\n",
    "n_5 = int(input(\"Enter a number: \"))\n",
    "\n",
    "if within(n_5):\n",
    "    print(f\"{n_5} is within 10 of 100 or 200.\")\n",
    "else:\n",
    "    print(f\"{n_5} is NOT within 10 of 100 or 200.\")\n"
   ]
  },
  {
   "cell_type": "markdown",
   "id": "23717fea",
   "metadata": {
    "id": "bea983a3"
   },
   "source": [
    "---\n",
    "\n",
    "### Exercise 33:\n",
    "Write a Python program that checks if a given string is a valid URL.\n",
    "\n",
    "```python\n",
    "# Exercise 33\n",
    "```"
   ]
  },
  {
   "cell_type": "code",
   "execution_count": 39,
   "id": "fb70f88d",
   "metadata": {},
   "outputs": [
    {
     "name": "stdout",
     "output_type": "stream",
     "text": [
      "Enter a URL: www.co.ke\n",
      "\"www.co.ke\" is a valid URL.\n"
     ]
    }
   ],
   "source": [
    "import re\n",
    "\n",
    "url = input(\"Enter a URL: \")\n",
    "\n",
    "pat = r'^(https?://)?(www\\.)?[\\w\\-]+\\.\\w{2,}(/[\\w\\-./?%&=]*)?$'\n",
    "\n",
    "if re.match(pat, url):\n",
    "    print(f'\"{url}\" is a valid URL.')\n",
    "else:\n",
    "    print(f'\"{url}\" is not a valid URL.')\n"
   ]
  },
  {
   "cell_type": "markdown",
   "id": "5a1380b7",
   "metadata": {
    "id": "bea983a3"
   },
   "source": [
    "---\n",
    "\n",
    "### Exercise 34:\n",
    "Write a Python program that checks if a list contains all even numbers.\n",
    "\n",
    "```python\n",
    "# Exercise 34\n",
    "```"
   ]
  },
  {
   "cell_type": "code",
   "execution_count": 40,
   "id": "838271e7",
   "metadata": {},
   "outputs": [
    {
     "name": "stdout",
     "output_type": "stream",
     "text": [
      "Enter numbers separated by spaces: 12 34 43 67\n",
      "Not all numbers are even.\n"
     ]
    }
   ],
   "source": [
    "n_6 = list(map(int, input(\"Enter numbers separated by spaces: \").split()))\n",
    "if all(num % 2 == 0 for num in n_6):\n",
    "    print(\"All numbers are even.\")\n",
    "else:\n",
    "    print(\"Not all numbers are even.\")\n"
   ]
  },
  {
   "cell_type": "markdown",
   "id": "27cb5f50",
   "metadata": {
    "id": "bea983a3"
   },
   "source": [
    "---\n",
    "\n",
    "### Exercise 35:\n",
    "Write a Python program that checks if a word is longer than a given length.\n",
    "\n",
    "```python\n",
    "# Exercise 35\n",
    "```"
   ]
  },
  {
   "cell_type": "code",
   "execution_count": 41,
   "id": "3321599f",
   "metadata": {},
   "outputs": [
    {
     "name": "stdout",
     "output_type": "stream",
     "text": [
      "Enter a word: creep\n",
      "Enter the length to compare: 7\n",
      "\"creep\" is not longer than 7.\n"
     ]
    }
   ],
   "source": [
    "w_8 = input(\"Enter a word: \")\n",
    "le = int(input(\"Enter the length to compare: \"))\n",
    "if len(w_8) > le:\n",
    "    print(f'\"{w_8}\" is longer than {le}.')\n",
    "else:\n",
    "    print(f'\"{w_8}\" is not longer than {le}.')\n"
   ]
  },
  {
   "cell_type": "markdown",
   "id": "e8774b07",
   "metadata": {
    "id": "bea983a3"
   },
   "source": [
    "---\n",
    "\n",
    "### Exercise 36:\n",
    "Write a Python program that checks if a list contains only positive numbers.\n",
    "\n",
    "```python\n",
    "# Exercise 36\n",
    "```"
   ]
  },
  {
   "cell_type": "code",
   "execution_count": 42,
   "id": "b21ffdb3",
   "metadata": {},
   "outputs": [
    {
     "name": "stdout",
     "output_type": "stream",
     "text": [
      "Enter numbers separated by spaces: 22 67 90 2\n",
      "All numbers are positive.\n"
     ]
    }
   ],
   "source": [
    "n_7 = list(map(int, input(\"Enter numbers separated by spaces: \").split()))\n",
    "if all(n > 0 for n in n_7):\n",
    "    print(\"All numbers are positive.\")\n",
    "else:\n",
    "    print(\"Not all numbers are positive.\")\n"
   ]
  },
  {
   "cell_type": "markdown",
   "id": "aa1591c4",
   "metadata": {
    "id": "bea983a3"
   },
   "source": [
    "---\n",
    "\n",
    "### Exercise 37:\n",
    "Write a Python function that checks if a year is a century year (i.e., divisible by 100).\n",
    "\n",
    "```python\n",
    "# Exercise 37\n",
    "```"
   ]
  },
  {
   "cell_type": "code",
   "execution_count": 43,
   "id": "eaf5a6c6",
   "metadata": {},
   "outputs": [
    {
     "name": "stdout",
     "output_type": "stream",
     "text": [
      "Enter a year: 2019\n",
      "2019 is not a century year.\n"
     ]
    }
   ],
   "source": [
    "yr = int(input(\"Enter a year: \"))\n",
    "if yr % 100 == 0:\n",
    "    print(f\"{yr} is a century year.\")\n",
    "else:\n",
    "    print(f\"{yr} is not a century year.\")\n"
   ]
  },
  {
   "cell_type": "markdown",
   "id": "40eeec49",
   "metadata": {
    "id": "bea983a3"
   },
   "source": [
    "---\n",
    "\n",
    "### Exercise 38:\n",
    "Write a Python program that checks if the sum of a list of numbers is greater than 100.\n",
    "\n",
    "```python\n",
    "# Exercise 38\n",
    "```"
   ]
  },
  {
   "cell_type": "code",
   "execution_count": 44,
   "id": "d0cce602",
   "metadata": {},
   "outputs": [
    {
     "name": "stdout",
     "output_type": "stream",
     "text": [
      "Enter numbers separated by spaces: 12 54 98 67\n",
      "The sum is greater than 100.\n"
     ]
    }
   ],
   "source": [
    "lst_9 = list(map(int, input(\"Enter numbers separated by spaces: \").split()))\n",
    "if sum(lst_9) > 100:\n",
    "    print(\"The sum is greater than 100.\")\n",
    "else:\n",
    "    print(\"The sum is not greater than 100.\")\n"
   ]
  },
  {
   "cell_type": "markdown",
   "id": "2868d900",
   "metadata": {
    "id": "bea983a3"
   },
   "source": [
    "---\n",
    "\n",
    "### Exercise 39:\n",
    "Write a Python function that checks if a given word is a substring of another string.\n",
    "\n",
    "```python\n",
    "# Exercise 39\n",
    "```"
   ]
  },
  {
   "cell_type": "code",
   "execution_count": 46,
   "id": "67b95d57",
   "metadata": {},
   "outputs": [
    {
     "name": "stdout",
     "output_type": "stream",
     "text": [
      "Enter the main string: potato\n",
      "Enter the word to check: pot\n",
      "\"pot\" is a substring of \"potato\".\n"
     ]
    }
   ],
   "source": [
    "t_8 = input(\"Enter the main string: \")\n",
    "w_9 = input(\"Enter the word to check: \")\n",
    "\n",
    "if w_9 in t_8:\n",
    "    print(f'\"{w_9}\" is a substring of \"{t_8}\".')\n",
    "else:\n",
    "    print(f'\"{w_9}\" is not a substring of \"{t_8}\".')\n"
   ]
  },
  {
   "cell_type": "markdown",
   "id": "66d07cc2",
   "metadata": {
    "id": "bea983a3"
   },
   "source": [
    "---\n",
    "\n",
    "### Exercise 40:\n",
    "Write a Python program that checks if a number is a power of 2.\n",
    "\n",
    "```python\n",
    "# Exercise 40\n",
    "```"
   ]
  },
  {
   "cell_type": "code",
   "execution_count": 47,
   "id": "ea15ae22",
   "metadata": {},
   "outputs": [
    {
     "name": "stdout",
     "output_type": "stream",
     "text": [
      "Enter a number: 8\n",
      "8 is a power of 2.\n"
     ]
    }
   ],
   "source": [
    "n_8 = int(input(\"Enter a number: \"))\n",
    "if n_8 > 0 and (n_8 & (n_8 - 1)) == 0:\n",
    "    print(f\"{n_8} is a power of 2.\")\n",
    "else:\n",
    "    print(f\"{n_8} is not a power of 2.\")\n"
   ]
  },
  {
   "cell_type": "markdown",
   "id": "a5748948",
   "metadata": {
    "id": "bea983a3"
   },
   "source": [
    "---\n",
    "\n",
    "### Exercise 41:\n",
    "Write a Python function that checks if a string contains no spaces.\n",
    "\n",
    "```python\n",
    "# Exercise 41\n",
    "```"
   ]
  },
  {
   "cell_type": "code",
   "execution_count": 48,
   "id": "2b4aa245",
   "metadata": {},
   "outputs": [
    {
     "name": "stdout",
     "output_type": "stream",
     "text": [
      "Enter a string: type\n",
      "The string contains no spaces.\n"
     ]
    }
   ],
   "source": [
    "t_9 = input(\"Enter a string: \")\n",
    "if \" \" in t_9:\n",
    "    print(\"The string contains spaces.\")\n",
    "else:\n",
    "    print(\"The string contains no spaces.\")\n"
   ]
  },
  {
   "cell_type": "markdown",
   "id": "33610ec6",
   "metadata": {
    "id": "bea983a3"
   },
   "source": [
    "---\n",
    "\n",
    "### Exercise 42:\n",
    "Write a Python program that prints \"Yes\" if a number is divisible by both 2 and 3, otherwise it prints \"No.\"\n",
    "\n",
    "```python\n",
    "# Exercise 42\n",
    "```"
   ]
  },
  {
   "cell_type": "code",
   "execution_count": 49,
   "id": "cba3f5f1",
   "metadata": {},
   "outputs": [
    {
     "name": "stdout",
     "output_type": "stream",
     "text": [
      "Enter a number: 6\n",
      "Yes\n"
     ]
    }
   ],
   "source": [
    "n_9 = int(input(\"Enter a number: \"))\n",
    "if n_9 % 2 == 0 and n_9 % 3 == 0:\n",
    "    print(\"Yes\")\n",
    "else:\n",
    "    print(\"No\")\n"
   ]
  },
  {
   "cell_type": "markdown",
   "id": "e6cd5c6c",
   "metadata": {
    "id": "bea983a3"
   },
   "source": [
    "---\n",
    "\n",
    "### Exercise 43:\n",
    "Write a Python program that checks if a number is a palindrome.\n",
    "\n",
    "```python\n",
    "# Exercise 43\n",
    "```"
   ]
  },
  {
   "cell_type": "code",
   "execution_count": 50,
   "id": "fbc7feef",
   "metadata": {},
   "outputs": [
    {
     "name": "stdout",
     "output_type": "stream",
     "text": [
      "Enter a number: 676\n",
      "676 is a palindrome.\n"
     ]
    }
   ],
   "source": [
    "n_1 = input(\"Enter a number: \")\n",
    "if n_1 == n_1[::-1]:\n",
    "    print(f\"{n_1} is a palindrome.\")\n",
    "else:\n",
    "    print(f\"{n_1} is not a palindrome.\")\n"
   ]
  },
  {
   "cell_type": "markdown",
   "id": "cade0d00",
   "metadata": {
    "id": "bea983a3"
   },
   "source": [
    "---\n",
    "\n",
    "### Exercise 44:\n",
    "Write a Python function that checks if a string is made of only lowercase letters.\n",
    "\n",
    "```python\n",
    "# Exercise 44\n",
    "```"
   ]
  },
  {
   "cell_type": "code",
   "execution_count": 51,
   "id": "22be5b74",
   "metadata": {},
   "outputs": [
    {
     "name": "stdout",
     "output_type": "stream",
     "text": [
      "Enter a string: 79\n",
      "The string does not contain only lowercase letters.\n"
     ]
    }
   ],
   "source": [
    "t_ = input(\"Enter a string: \")\n",
    "if t_.islower():\n",
    "    print(\"The string contains only lowercase letters.\")\n",
    "else:\n",
    "    print(\"The string does not contain only lowercase letters.\")\n"
   ]
  },
  {
   "cell_type": "markdown",
   "id": "10f98a36",
   "metadata": {
    "id": "bea983a3"
   },
   "source": [
    "---\n",
    "\n",
    "### Exercise 45:\n",
    "Write a Python program that checks if a string starts with a specific prefix.\n",
    "\n",
    "```python\n",
    "# Exercise 45\n",
    "```"
   ]
  },
  {
   "cell_type": "code",
   "execution_count": 52,
   "id": "c3a2a4d0",
   "metadata": {},
   "outputs": [
    {
     "name": "stdout",
     "output_type": "stream",
     "text": [
      "Enter a string: qwerty\n",
      "Enter the prefix: qwr\n",
      "The string does not start with \"qwr\".\n"
     ]
    }
   ],
   "source": [
    "t= input(\"Enter a string: \")\n",
    "p= input(\"Enter the prefix: \")\n",
    "if t.startswith(p):\n",
    "    print(f'The string starts with \"{p}\".')\n",
    "else:\n",
    "    print(f'The string does not start with \"{p}\".')\n"
   ]
  },
  {
   "cell_type": "markdown",
   "id": "4ac898e3",
   "metadata": {
    "id": "bea983a3"
   },
   "source": [
    "---\n",
    "\n",
    "### Exercise 46:\n",
    "Write a Python function that checks if a number is divisible by any number in a given list.\n",
    "\n",
    "```python\n",
    "# Exercise 46\n",
    "```"
   ]
  },
  {
   "cell_type": "code",
   "execution_count": 54,
   "id": "629f1c40",
   "metadata": {},
   "outputs": [
    {
     "name": "stdout",
     "output_type": "stream",
     "text": [
      "Enter a number: 10\n",
      "Enter divisors separated by spaces: 2 5\n",
      "10 is divisible by at least one number in the list.\n"
     ]
    }
   ],
   "source": [
    "def divisible(n,div):\n",
    "    for d in div:\n",
    "        if d != 0 and n % d == 0:\n",
    "            return True\n",
    "        return False\n",
    "\n",
    "\n",
    "n = int(input(\"Enter a number: \"))\n",
    "div = list(map(int, input(\"Enter divisors separated by spaces: \").split()))\n",
    "if divisible(n, div):\n",
    "    print(f\"{n} is divisible by at least one number in the list.\")\n",
    "else:\n",
    "    print(f\"{n} is not divisible by any number in the list.\")\n",
    "\n"
   ]
  },
  {
   "cell_type": "markdown",
   "id": "780d32dc",
   "metadata": {
    "id": "bea983a3"
   },
   "source": [
    "---\n",
    "\n",
    "### Exercise 47:\n",
    "Write a Python program that prints \"Yes\" if a string has more than one occurrence of the same letter.\n",
    "\n",
    "```python\n",
    "# Exercise 47\n",
    "```"
   ]
  },
  {
   "cell_type": "code",
   "execution_count": 55,
   "id": "570ae69c",
   "metadata": {},
   "outputs": [
    {
     "name": "stdout",
     "output_type": "stream",
     "text": [
      "Enter a string: madam\n",
      "Yes\n"
     ]
    }
   ],
   "source": [
    "l = input(\"Enter a string: \")\n",
    "if len(l) != len(set(l)):\n",
    "    print(\"Yes\")\n",
    "else:\n",
    "    print(\"No\")\n"
   ]
  },
  {
   "cell_type": "markdown",
   "id": "fba8c5fb",
   "metadata": {
    "id": "bea983a3"
   },
   "source": [
    "---\n",
    "\n",
    "### Exercise 48:\n",
    "Write a Python function that checks if a number is prime by dividing it by numbers up to its square root.\n",
    "\n",
    "```python\n",
    "# Exercise 48\n",
    "```"
   ]
  },
  {
   "cell_type": "code",
   "execution_count": 57,
   "id": "5870909d",
   "metadata": {},
   "outputs": [
    {
     "name": "stdout",
     "output_type": "stream",
     "text": [
      "Enter a number: 9\n",
      "Not prime\n"
     ]
    }
   ],
   "source": [
    "import math\n",
    "\n",
    "x = int(input(\"Enter a number: \"))\n",
    "\n",
    "if x <= 1:\n",
    "    print(\"Not prime\")\n",
    "else:\n",
    "    is_prime = True\n",
    "    for i in range(2, int(math.sqrt(x)) + 1):\n",
    "        if x % i == 0:\n",
    "            is_prime = False\n",
    "            break\n",
    "    print(\"Prime\" if is_prime else \"Not prime\")\n"
   ]
  },
  {
   "cell_type": "markdown",
   "id": "e8d83453",
   "metadata": {
    "id": "bea983a3"
   },
   "source": [
    "---\n",
    "\n",
    "### Exercise 49:\n",
    "Write a Python program that checks if a number is within 1 of a multiple of 10.\n",
    "\n",
    "```python\n",
    "# Exercise 49\n",
    "```"
   ]
  },
  {
   "cell_type": "code",
   "execution_count": 58,
   "id": "ff860c56",
   "metadata": {},
   "outputs": [
    {
     "name": "stdout",
     "output_type": "stream",
     "text": [
      "Enter a number: 71\n",
      "71 is within 1 of a multiple of 10.\n"
     ]
    }
   ],
   "source": [
    "y = int(input(\"Enter a number: \"))\n",
    "if y % 10 in (0, 1, 9):\n",
    "    print(f\"{y} is within 1 of a multiple of 10.\")\n",
    "else:\n",
    "    print(f\"{y} is not within 1 of a multiple of 10.\")\n"
   ]
  },
  {
   "cell_type": "markdown",
   "id": "bea983a3",
   "metadata": {
    "id": "bea983a3"
   },
   "source": [
    "---\n",
    "\n",
    "### Exercise 50:\n",
    "Write a Python program that prints \"In range\" if a number is between 10 and 20 (inclusive), otherwise it prints \"Out of range.\"\n",
    "\n",
    "```python\n",
    "# Exercise 50\n",
    "```\n",
    "\n",
    "---"
   ]
  },
  {
   "cell_type": "code",
   "execution_count": 59,
   "id": "bf029629",
   "metadata": {},
   "outputs": [
    {
     "name": "stdout",
     "output_type": "stream",
     "text": [
      "Enter a number: 5\n",
      "Out of range\n"
     ]
    }
   ],
   "source": [
    "z = int(input(\"Enter a number: \"))\n",
    "if 10 <= z <= 20:\n",
    "    print(\"In range\")\n",
    "else:\n",
    "    print(\"Out of range\")\n"
   ]
  }
 ],
 "metadata": {
  "colab": {
   "provenance": []
  },
  "kernelspec": {
   "display_name": "Python 3 (ipykernel)",
   "language": "python",
   "name": "python3"
  },
  "language_info": {
   "codemirror_mode": {
    "name": "ipython",
    "version": 3
   },
   "file_extension": ".py",
   "mimetype": "text/x-python",
   "name": "python",
   "nbconvert_exporter": "python",
   "pygments_lexer": "ipython3",
   "version": "3.12.3"
  }
 },
 "nbformat": 4,
 "nbformat_minor": 5
}
